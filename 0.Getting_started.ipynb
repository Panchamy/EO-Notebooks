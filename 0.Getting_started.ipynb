{
 "cells": [
  {
   "cell_type": "markdown",
   "metadata": {
    "heading_collapsed": true
   },
   "source": [
    "# Getting started on geospatial visualisation workshop\n",
    "\n"
   ]
  },
  {
   "cell_type": "markdown",
   "metadata": {
    "hidden": true
   },
   "source": [
    "<aside style=\"background-color: #e7f3f7; margin: 1em 0px; padding: 0.5em 1.5em 1em 3.7em; font-size: 0.9em;\">\n",
    "<h3 style=\"position: relative;\"><i style=\"position: absolute; left: -2.15em; top: -0.2em;\"></i>By the end of this workshop, you should be able to:</h3>\n",
    "<ul>\n",
    "<li>describe the different types of geospatial data</li>\n",
    "<li>use python libraries to load, analyse and visualise geospatial data</li>\n",
    "<li>use  visualisation to analyse interaction between different geospatial data</li>\n",
    "</ul>\n",
    "</aside>\n",
    "\n",
    "<aside style=\"background-color: #e7f3f7; margin: 1em 0px; padding: 0.5em 1.5em 1em 3.7em; font-size: 0.9em;\">\n",
    "<h3 style=\"position: relative;\"><i style=\"position: absolute; left: -2.15em; top: -0.2em;\"></i>The workshop is divided as:</h3>\n",
    "<ul>\n",
    "<li>introduction to raster data [1.5 hours]</li>\n",
    "<li>introduction to vector data [1.5 hours]</li>\n",
    "<li>case study which combines raster and vector data [1 hour]</li>\n",
    "</ul>\n",
    "</aside>\n",
    "\n",
    "<p></p>"
   ]
  },
  {
   "cell_type": "markdown",
   "metadata": {
    "heading_collapsed": true
   },
   "source": [
    "# Checklist to complete the workshop"
   ]
  },
  {
   "cell_type": "markdown",
   "metadata": {
    "hidden": true
   },
   "source": [
    "- Readthrough the getting started notebook\n",
    "- Read the paper on colorscales [here]()\n",
    "- Follow the instructions in **Next steps - vector data**\n",
    "- Follow the instructions in **Next steps - raster data**\n",
    "- Follow the instructions in **Case study assignment**"
   ]
  },
  {
   "cell_type": "markdown",
   "metadata": {
    "heading_collapsed": true
   },
   "source": [
    "# Introduction to geospatial data"
   ]
  },
  {
   "cell_type": "markdown",
   "metadata": {
    "hidden": true
   },
   "source": [
    "**Geospatial data** represents information (or features) with respect to locations on Earth.  \n",
    "Example: A geospatical data show the populations of different provinces in a country. The data also has the geographical information of those provinces, like longitudianal and latitudinal coordinates at the boundaries of the provinces.\n",
    "\n",
    "There are two main types of geospatial data: vector and raster.  \n",
    "- **Vector data**: are based on the foundation of points. The related graphics can be points, lines, or polygons. For example, earthquakes can be associated with points, roads with lines, countries with polygons.\n",
    "- **Raster data**: are based on the foundation of gridcells or pixels.  \n",
    "\n",
    "An illustration of these two types of digitalising geospatial data is shown in a figure below:   \n",
    "  \n",
    "<img src=\"Data/images/geospatial_data_types.png\" alt=\"drawing\" width=\"500\"/>"
   ]
  },
  {
   "cell_type": "markdown",
   "metadata": {
    "heading_collapsed": true
   },
   "source": [
    "# Introduction to vector data"
   ]
  },
  {
   "cell_type": "markdown",
   "metadata": {
    "hidden": true
   },
   "source": [
    "<aside style=\"background-color: #e7f3f7; margin: 1em 0px; padding: 0.5em 1.5em 1em 3.7em; font-size: 0.9em;\">\n",
    "<h3 style=\"position: relative;\"><i style=\"position: absolute; left: -2.15em; top: -0.2em;\"></i>In this session, the following topics will be covered:</h3>\n",
    "<ul>\n",
    "<li>vector data types</li>\n",
    "<li>vector data formats</li>\n",
    "<li>vector data structures</li>\n",
    "<li>vector data visualisation</li>\n",
    "</ul>\n",
    "</aside>\n"
   ]
  },
  {
   "cell_type": "markdown",
   "metadata": {
    "heading_collapsed": true,
    "hidden": true
   },
   "source": [
    "## Vector data types"
   ]
  },
  {
   "cell_type": "markdown",
   "metadata": {
    "hidden": true
   },
   "source": [
    "There are three types of vector data - **Points, Lines** and **Polygons**.\n",
    "\n",
    "The definitions of these are given below:\n",
    "\n",
    "<img src=\"Data/images/vector_data.png\" alt=\"drawing\" width=\"500\"/>\n",
    "\n",
    "Source: National Ecological Observatory Network (NEON)"
   ]
  },
  {
   "cell_type": "markdown",
   "metadata": {
    "heading_collapsed": true,
    "hidden": true
   },
   "source": [
    "## Vector data formats\n"
   ]
  },
  {
   "cell_type": "markdown",
   "metadata": {
    "hidden": true
   },
   "source": [
    "These three data can be saved in different data formats. Some of these data formats: \n",
    "\n",
    "<img src=\"Data/images/vector_data_formats_sample.png\" alt=\"drawing\" width=\"900\"/>\n",
    "\n",
    "An exhaustive list can be found [here](https://gisgeography.com/gis-formats/). The two main data formats that are generally used and we will be working with in this workshop are **Shapefiles** and **Geojson**. \n",
    "\n",
    "General information about these two formats are given below:\n",
    "\n",
    "<img src=\"Data/images/vector_data_formats.png\" alt=\"drawing\" width=\"500\"/>\n",
    "\n",
    "Source: GIS Geography"
   ]
  },
  {
   "cell_type": "markdown",
   "metadata": {
    "heading_collapsed": true,
    "hidden": true
   },
   "source": [
    "## Vector data structures"
   ]
  },
  {
   "cell_type": "markdown",
   "metadata": {
    "hidden": true
   },
   "source": [
    "Geopandas is one of the efficient python data structures to load and analyse geospatial data, especially vector data. In this workshop, we will be working with **geopandas**. The functionalities of the geopandas can be found [here](https://geopandas.org/en/stable/docs/user_guide/data_structures.html). There are also basic visualisation functionalities inbuilt in geopandas. However, they donot offer dynamic and interactive visualisations."
   ]
  },
  {
   "cell_type": "markdown",
   "metadata": {
    "heading_collapsed": true,
    "hidden": true
   },
   "source": [
    "## Vector data visualisation"
   ]
  },
  {
   "cell_type": "markdown",
   "metadata": {
    "hidden": true
   },
   "source": [
    "There are multiple python libraries that can be used to visualise geospatial vector data. Some of the best can be found [here](https://towardsdatascience.com/best-libraries-for-geospatial-data-visualisation-in-python-d23834173b35).\n",
    "\n",
    "In this workshop, we will be working with **folium** library. The entire functionalities of the library can be found [here](https://python-visualization.github.io/folium/)."
   ]
  },
  {
   "cell_type": "markdown",
   "metadata": {
    "heading_collapsed": true
   },
   "source": [
    "# Next steps - vector data"
   ]
  },
  {
   "cell_type": "markdown",
   "metadata": {
    "hidden": true
   },
   "source": [
    "There are three seperate notebooks to understand vector data - Points.ipynb, Linestrings.ipynb and Polygon.ipynb. \n",
    "\n",
    "In each of them, formats, structures and visualisation are tackled. Practice the different functionalities of the geopandas and folium libraries with these notebooks.\n",
    "\n",
    "We would recommend practicing the notebooks in the following order:\n",
    "- Walkthrough Points.ipynb\n",
    "- Walkthrough Geopandas documentation\n",
    "- Walkthrough Linestrings.ipynb\n",
    "- Walkthrough Polygons.ipynb \n",
    "- Walkthrough Folium documenation"
   ]
  },
  {
   "cell_type": "markdown",
   "metadata": {
    "heading_collapsed": true
   },
   "source": [
    "# [TODO] Introduction to raster data"
   ]
  },
  {
   "cell_type": "markdown",
   "metadata": {
    "heading_collapsed": true
   },
   "source": [
    "# [TODO] Next steps - raster data"
   ]
  },
  {
   "cell_type": "markdown",
   "metadata": {
    "heading_collapsed": true
   },
   "source": [
    "# Case study assignment"
   ]
  },
  {
   "cell_type": "markdown",
   "metadata": {
    "hidden": true
   },
   "source": [
    "Use the workshop materials to tackle a geospatial visualisation problem. \n",
    "\n",
    "We have provided two data sets \n",
    "- vector data containing the road network of Vietnam and the provincial boundaries of Vietnam\n",
    "- raster data containing the flood risk of Vietnam\n",
    "\n",
    "In this assignment, you have to complete the following tasks:\n",
    "- Identify provinces that are vulnerable to flooding\n",
    "- Idenfiy roads that are vulnerable to flooding\n",
    "- **?Identify provinces that have vulnerable roads**\n"
   ]
  },
  {
   "cell_type": "markdown",
   "metadata": {
    "heading_collapsed": true
   },
   "source": [
    "# Additional resources"
   ]
  },
  {
   "cell_type": "markdown",
   "metadata": {
    "hidden": true
   },
   "source": [
    "- [Data carpentry workshops](https://datacarpentry.org/organization-geospatial/)\n",
    "- [Carpentry lab workshops](https://carpentries-lab.github.io/python-aos-lesson/)"
   ]
  }
 ],
 "metadata": {
  "interpreter": {
   "hash": "31f2aee4e71d21fbe5cf8b01ff0e069b9275f58929596ceb00d14d90e3e16cd6"
  },
  "kernelspec": {
   "display_name": "Python 3 (ipykernel)",
   "language": "python",
   "name": "python3"
  },
  "language_info": {
   "codemirror_mode": {
    "name": "ipython",
    "version": 3
   },
   "file_extension": ".py",
   "mimetype": "text/x-python",
   "name": "python",
   "nbconvert_exporter": "python",
   "pygments_lexer": "ipython3",
   "version": "3.7.11"
  }
 },
 "nbformat": 4,
 "nbformat_minor": 2
}
