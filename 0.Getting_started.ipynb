{
 "cells": [
  {
   "cell_type": "markdown",
   "metadata": {
    "heading_collapsed": true
   },
   "source": [
    "# Getting started on geospatial visualisation workshop\n",
    "\n"
   ]
  },
  {
   "cell_type": "markdown",
   "metadata": {
    "hidden": true
   },
   "source": [
    "<aside style=\"background-color: #e7f3f7; margin: 1em 0px; padding: 0.5em 1.5em 1em 3.7em; font-size: 0.9em;\">\n",
    "<h3 style=\"position: relative;\"><i style=\"position: absolute; left: -2.15em; top: -0.2em;\"></i>By the end of this workshop, you should be able to:</h3>\n",
    "<ul>\n",
    "<li>describe the different types of geospatial data</li>\n",
    "<li>use python libraries to load, analyse and visualise geospatial data</li>\n",
    "<li>use  visualisation to analyse interaction between different geospatial data</li>\n",
    "</ul>\n",
    "</aside>\n",
    "\n",
    "<aside style=\"background-color: #e7f3f7; margin: 1em 0px; padding: 0.5em 1.5em 1em 3.7em; font-size: 0.9em;\">\n",
    "<h3 style=\"position: relative;\"><i style=\"position: absolute; left: -2.15em; top: -0.2em;\"></i>The workshop is divided as:</h3>\n",
    "<ul>\n",
    "<li>introduction to raster data [1.5 hours]</li>\n",
    "<li>introduction to vector data [1.5 hours]</li>\n",
    "<li>case study which combines raster and vector data [1 hour]</li>\n",
    "</ul>\n",
    "</aside>\n",
    "\n",
    "<p></p>"
   ]
  },
  {
   "cell_type": "markdown",
   "metadata": {
    "heading_collapsed": true
   },
   "source": [
    "# Checklist to complete the workshop"
   ]
  },
  {
   "cell_type": "markdown",
   "metadata": {
    "hidden": true
   },
   "source": [
    "- Readthrough the getting started notebook\n",
    "- Read the paper on colorscales [here](https://www.nature.com/articles/s41467-020-19160-7)\n",
    "- Follow the instructions in **Next steps - vector data**\n",
    "- Follow the instructions in **Next steps - raster data**\n",
    "- Follow the instructions in **Case study assignment**\n",
    "\n",
    "*Note: The notebooks have been tested with Python 3.8*"
   ]
  },
  {
   "cell_type": "markdown",
   "metadata": {
    "heading_collapsed": true
   },
   "source": [
    "# Introduction to geospatial data"
   ]
  },
  {
   "cell_type": "markdown",
   "metadata": {
    "hidden": true
   },
   "source": [
    "**Geospatial data** represents information (or features) with respect to locations on Earth.  \n",
    "Example: A geospatical data show the populations of different provinces in a country. The data also has the geographical information of those provinces, like longitudianal and latitudinal coordinates at the boundaries of the provinces.\n",
    "\n",
    "There are two main types of geospatial data: vector and raster.  \n",
    "- **Vector data**: are based on the foundation of points. The related graphics can be points, lines, or polygons. For example, earthquakes can be associated with points, roads with lines, countries with polygons.\n",
    "- **Raster data**: are based on the foundation of gridcells or pixels.  \n",
    "\n",
    "An illustration of these two types of digitalising geospatial data is shown in a figure below:   \n",
    "  \n",
    "<img src=\"Data/images/geospatial_data_types.png\" alt=\"drawing\" width=\"500\"/>"
   ]
  },
  {
   "cell_type": "markdown",
   "metadata": {
    "heading_collapsed": true
   },
   "source": [
    "# Introduction to vector data"
   ]
  },
  {
   "cell_type": "markdown",
   "metadata": {
    "hidden": true
   },
   "source": [
    "<aside style=\"background-color: #e7f3f7; margin: 1em 0px; padding: 0.5em 1.5em 1em 3.7em; font-size: 0.9em;\">\n",
    "<h3 style=\"position: relative;\"><i style=\"position: absolute; left: -2.15em; top: -0.2em;\"></i>In this session, the following topics will be covered:</h3>\n",
    "<ul>\n",
    "<li>vector data types</li>\n",
    "<li>vector data formats</li>\n",
    "<li>vector data structures</li>\n",
    "<li>vector data visualisation</li>\n",
    "</ul>\n",
    "</aside>\n"
   ]
  },
  {
   "cell_type": "markdown",
   "metadata": {
    "heading_collapsed": true,
    "hidden": true
   },
   "source": [
    "## Vector data types"
   ]
  },
  {
   "cell_type": "markdown",
   "metadata": {
    "hidden": true
   },
   "source": [
    "There are three types of vector data - **Points, Lines** and **Polygons**.\n",
    "\n",
    "The definitions of these are given below:\n",
    "\n",
    "<img src=\"Data/images/vector_data.png\" alt=\"drawing\" width=\"500\"/>\n",
    "\n",
    "Source: National Ecological Observatory Network (NEON)"
   ]
  },
  {
   "cell_type": "markdown",
   "metadata": {
    "heading_collapsed": true,
    "hidden": true
   },
   "source": [
    "## Vector data formats\n"
   ]
  },
  {
   "cell_type": "markdown",
   "metadata": {
    "hidden": true
   },
   "source": [
    "These three data can be saved in different data formats. Some of these data formats: \n",
    "\n",
    "<img src=\"Data/images/vector_data_formats_sample.png\" alt=\"drawing\" width=\"900\"/>\n",
    "\n",
    "An exhaustive list can be found [here](https://gisgeography.com/gis-formats/). The two main data formats that are generally used and we will be working with in this workshop are **Shapefiles** and **Geojson**. \n",
    "\n",
    "General information about these two formats are given below:\n",
    "\n",
    "<img src=\"Data/images/vector_data_formats.png\" alt=\"drawing\" width=\"500\"/>\n",
    "\n",
    "Source: GIS Geography"
   ]
  },
  {
   "cell_type": "markdown",
   "metadata": {
    "heading_collapsed": true,
    "hidden": true
   },
   "source": [
    "## Vector data structures"
   ]
  },
  {
   "cell_type": "markdown",
   "metadata": {
    "hidden": true
   },
   "source": [
    "Geopandas is one of the efficient python data structures to load and analyse geospatial data, especially vector data. In this workshop, we will be working with **geopandas**. The functionalities of the geopandas can be found [here](https://geopandas.org/en/stable/docs/user_guide/data_structures.html). There are also basic visualisation functionalities inbuilt in geopandas. However, they do not offer dynamic and interactive visualisations."
   ]
  },
  {
   "cell_type": "markdown",
   "metadata": {
    "heading_collapsed": true,
    "hidden": true
   },
   "source": [
    "## Vector data visualisation"
   ]
  },
  {
   "cell_type": "markdown",
   "metadata": {
    "hidden": true
   },
   "source": [
    "There are multiple python libraries that can be used to visualise geospatial vector data. Some of the best can be found [here](https://towardsdatascience.com/best-libraries-for-geospatial-data-visualisation-in-python-d23834173b35).\n",
    "\n",
    "In this workshop, we will be working with **folium** library. The entire functionalities of the library can be found [here](https://python-visualization.github.io/folium/)."
   ]
  },
  {
   "cell_type": "markdown",
   "metadata": {
    "heading_collapsed": true
   },
   "source": [
    "# Next steps - vector data"
   ]
  },
  {
   "cell_type": "markdown",
   "metadata": {
    "hidden": true
   },
   "source": [
    "There are three seperate notebooks to understand vector data - Points.ipynb, Linestrings.ipynb and Polygon.ipynb. \n",
    "\n",
    "In each of them, formats, structures and visualisation are tackled. Practice the different functionalities of the geopandas and folium libraries with these notebooks.\n",
    "\n",
    "We would recommend practicing the notebooks in the following order:\n",
    "- Walkthrough Points.ipynb\n",
    "- Walkthrough Geopandas documentation\n",
    "- Walkthrough Linestrings.ipynb\n",
    "- Walkthrough Polygons.ipynb \n",
    "- Walkthrough Folium documenation"
   ]
  },
  {
   "cell_type": "markdown",
   "metadata": {
    "heading_collapsed": true
   },
   "source": [
    "# Introduction to raster data"
   ]
  },
  {
   "cell_type": "markdown",
   "metadata": {},
   "source": [
    "Alternative to vector data are raster data. In its simplest form, a raster consists of a matrix of cells (or pixels) organized into rows and columns (or a grid) where each cell contains a value representing information. In a more complex form, raster data can have multiple layers where each layer again represents information.\n",
    "\n",
    "![](Data/images/raster_data_simple.png)\n",
    "\n",
    "In raster datasets, each cell (which is also known as a pixel) has a value of digital number. The cell values represent the phenomenon portrayed by the raster dataset such as a category, magnitude, or spectral value. The category could be a land-use class such as grassland, forest, or road. A magnitude might represent temperature, or surface elevation above mean sea level. Spectral values are used in satellite imagery and aerial photography to represent light reflectance and color.\n",
    "\n",
    "Cell values can be either positive or negative, integer, or floating point. Integer values are best used to represent categorical (discrete) data and floating-point values to represent continuous surfaces.\n",
    "\n",
    "The area (or surface) represented by each cell consists of the same width and height and is an equal portion of the entire surface represented by the raster. For example, a raster representing elevation (that is, digital elevation model) may cover an area of 100 square kilometers. If there were 100 cells in this raster, each cell would represent 1 square kilometer of equal width and height (that is, 1 km x 1 km).\n",
    "\n",
    "The dimension of the cells can be as large or as small as needed to represent the surface conveyed by the raster dataset and the features within the surface, such as a square kilometer, square foot, or even square centimeter. The cell size determines how coarse or fine the patterns or features in the raster will appear.\n",
    "\n",
    "The location of each cell is defined by the row or column where it is located within the raster matrix. Essentially, the matrix is represented by a Cartesian coordinate system in image space, in which the rows of the matrix are parallel to the x-axis and the columns to the y-axis of the Cartesian plane. Row and column values typically begin with 0. These Cartesian coordinates then correspond to real world coordinates in a certain projection system which typically is called a Coordinate Reference System (CRS). There exist many CRS which all serve different purposes and you can find an overview on [https://spatialreference.org/](https://spatialreference.org/ref/epsg/)\n",
    "\n",
    " ![](Data/images/raster_data_relation.gif)"
   ]
  },
  {
   "cell_type": "markdown",
   "metadata": {
    "collapsed": false,
    "pycharm": {
     "name": "#%% md\n"
    }
   },
   "source": [
    "## Raster data formats\n"
   ]
  },
  {
   "cell_type": "markdown",
   "metadata": {},
   "source": [
    "A multitude of raster file format types are typically available for use in different software tools. Among the most common raster files used on the web are the JPEG, TIFF, and PNG formats, all of which are open source and can be used with most software packages. Native JPEG, TIFF, and PNG files do not have georeferenced information associated with them and therefore cannot be used in any geospatial mapping efforts as they only exist in image space and not in coordinate space.\n",
    "\n",
    "In order to employ these files in a geospatial context, image to coordinate translation should be available that specifies the locations and transformations that allow the image to be projected into a standard coordinate system (e.g., Universal Transverse Mercator [UTM] or State Plane). Therefore we will work with georeferenced raster data of which GeoTiff is a common data format (see overview of other formats [here](https://pro.arcgis.com/en/pro-app/latest/help/data/imagery/supported-raster-dataset-file-formats.htm))\n",
    "\n",
    "In such georeferenced dataset we need at least information on the extent and resolution of the raster data:\n",
    "\n",
    " - Extent: The spatial extent is the geographic area that the raster data covers. The spatial extent of an R spatial object represents the geographic edge or location that is the furthest north, south, east and west. In other words, extent represents the overall geographic coverage of the spatial object.\n",
    "\n",
    " -  Resolution: A resolution of a raster represents the area on the ground that each pixel of the raster covers. The image below illustrates the effect of changes in resolution. The image below illustrates the effect of changes in resolution for images with a similar extent.\n",
    "\n",
    "![](Data/images/raster_resolution.png)"
   ]
  },
  {
   "cell_type": "markdown",
   "metadata": {
    "collapsed": false,
    "pycharm": {
     "name": "#%% md\n"
    }
   },
   "source": [
    "## Raster data visualisation\n"
   ]
  },
  {
   "cell_type": "markdown",
   "metadata": {},
   "source": [
    "Similar to vector data, there are multiple python libraries that can be used to visualise geospatial raster data.\n",
    "\n",
    "In this workshop, however, we will be working with **folium** library. The entire functionalities of the library can be found [here](https://python-visualization.github.io/folium/), with specific guidelines to visualize [raster data](https://python-visualization.github.io/folium/modules.html#module-folium.raster_layers)."
   ]
  },
  {
   "cell_type": "markdown",
   "metadata": {
    "heading_collapsed": true
   },
   "source": [
    "# Next steps - raster data"
   ]
  },
  {
   "cell_type": "markdown",
   "metadata": {},
   "source": [
    "There is a seperate notebooks to understand raster data, where the different steps to tackle raster data is handled. Please follow the instruction in [4.Rasters.ipynb](4.Rasters.ipynb)"
   ]
  },
  {
   "cell_type": "markdown",
   "metadata": {
    "heading_collapsed": true
   },
   "source": [
    "# Case study assignment"
   ]
  },
  {
   "cell_type": "markdown",
   "metadata": {
    "hidden": true
   },
   "source": [
    "Use the workshop materials to tackle a geospatial visualisation problem. \n",
    "\n",
    "We have provided two data sets \n",
    "- vector data containing the road network of Vietnam and the provincial boundaries of Vietnam\n",
    "- raster data containing the flood risk of Vietnam\n",
    "\n",
    "In this assignment, you have to complete the following tasks:\n",
    "- Identify provinces that are vulnerable to flooding\n",
    "- Idenfiy roads that are vulnerable to flooding\n",
    "- Identify provinces that have vulnerable roads\n"
   ]
  },
  {
   "cell_type": "markdown",
   "metadata": {
    "heading_collapsed": true
   },
   "source": [
    "# Additional resources"
   ]
  },
  {
   "cell_type": "markdown",
   "metadata": {
    "hidden": true
   },
   "source": [
    "- [Data carpentry workshops](https://datacarpentry.org/organization-geospatial/)\n",
    "- [Carpentry lab workshops](https://carpentries-lab.github.io/python-aos-lesson/)"
   ]
  }
 ],
 "metadata": {
  "interpreter": {
   "hash": "31f2aee4e71d21fbe5cf8b01ff0e069b9275f58929596ceb00d14d90e3e16cd6"
  },
  "kernelspec": {
   "display_name": "Python 3 (ipykernel)",
   "language": "python",
   "name": "python3"
  },
  "language_info": {
   "codemirror_mode": {
    "name": "ipython",
    "version": 3
   },
   "file_extension": ".py",
   "mimetype": "text/x-python",
   "name": "python",
   "nbconvert_exporter": "python",
   "pygments_lexer": "ipython3",
   "version": "3.8.2"
  }
 },
 "nbformat": 4,
 "nbformat_minor": 2
}
