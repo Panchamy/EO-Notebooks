{
 "cells": [
  {
   "cell_type": "markdown",
   "id": "6a2a0386",
   "metadata": {
    "heading_collapsed": true
   },
   "source": [
    "# Point data\n"
   ]
  },
  {
   "cell_type": "code",
   "execution_count": 1,
   "id": "3aaf7bf1",
   "metadata": {
    "hidden": true
   },
   "outputs": [],
   "source": [
    "import geopandas as gpd\n",
    "import folium\n",
    "import json\n",
    "import branca"
   ]
  },
  {
   "cell_type": "markdown",
   "id": "3ef5b205",
   "metadata": {
    "heading_collapsed": true
   },
   "source": [
    "# Point data formats"
   ]
  },
  {
   "cell_type": "markdown",
   "id": "969629ff",
   "metadata": {
    "hidden": true
   },
   "source": [
    "Read geospatial data from a shapefile/geojson using geopandas built-in function `read_file`"
   ]
  },
  {
   "cell_type": "markdown",
   "id": "0d2f36a8",
   "metadata": {
    "hidden": true
   },
   "source": [
    "## Geojson files"
   ]
  },
  {
   "cell_type": "code",
   "execution_count": 6,
   "id": "7abfa422",
   "metadata": {
    "hidden": true
   },
   "outputs": [],
   "source": [
    "df = gpd.read_file('Data/point_linestring/traj.geojson')"
   ]
  },
  {
   "cell_type": "code",
   "execution_count": 7,
   "id": "ce6a8ec4",
   "metadata": {
    "hidden": true
   },
   "outputs": [
    {
     "data": {
      "text/html": [
       "<div>\n",
       "<style scoped>\n",
       "    .dataframe tbody tr th:only-of-type {\n",
       "        vertical-align: middle;\n",
       "    }\n",
       "\n",
       "    .dataframe tbody tr th {\n",
       "        vertical-align: top;\n",
       "    }\n",
       "\n",
       "    .dataframe thead th {\n",
       "        text-align: right;\n",
       "    }\n",
       "</style>\n",
       "<table border=\"1\" class=\"dataframe\">\n",
       "  <thead>\n",
       "    <tr style=\"text-align: right;\">\n",
       "      <th></th>\n",
       "      <th>geometry</th>\n",
       "    </tr>\n",
       "  </thead>\n",
       "  <tbody>\n",
       "    <tr>\n",
       "      <th>0</th>\n",
       "      <td>LINESTRING (4.71271 51.83987, 4.71264 51.83974...</td>\n",
       "    </tr>\n",
       "  </tbody>\n",
       "</table>\n",
       "</div>"
      ],
      "text/plain": [
       "                                            geometry\n",
       "0  LINESTRING (4.71271 51.83987, 4.71264 51.83974..."
      ]
     },
     "execution_count": 7,
     "metadata": {},
     "output_type": "execute_result"
    }
   ],
   "source": [
    "df"
   ]
  },
  {
   "cell_type": "code",
   "execution_count": 8,
   "id": "70128fb5",
   "metadata": {
    "hidden": true
   },
   "outputs": [
    {
     "data": {
      "image/svg+xml": "<svg xmlns=\"http://www.w3.org/2000/svg\" xmlns:xlink=\"http://www.w3.org/1999/xlink\" width=\"100.0\" height=\"100.0\" viewBox=\"4.711393172 51.83770547200001 0.0013989560000000623 0.0022444559999925673\" preserveAspectRatio=\"xMinYMin meet\"><g transform=\"matrix(1,0,0,-1,0,103.67765540000002)\"><polyline fill=\"none\" stroke=\"#66cc99\" stroke-width=\"4.488911999985135e-05\" points=\"4.712709,51.8398668 4.7126449,51.839744 4.7125874,51.83962499999999 4.7125307,51.8395098 4.7124674,51.8393959 4.7123936,51.839276100000006 4.712311799999999,51.8391469 4.7122243,51.839007300000006 4.7121317,51.838856500000006 4.7120310000000005,51.838694 4.7119298,51.8385241 4.7118232,51.8383491 4.7117123,51.83816830000001 4.7115964,51.8379819 4.7114763,51.83778860000001\" opacity=\"0.8\" /></g></svg>",
      "text/plain": [
       "<shapely.geometry.linestring.LineString at 0x7fe1b3f16490>"
      ]
     },
     "execution_count": 8,
     "metadata": {},
     "output_type": "execute_result"
    }
   ],
   "source": [
    "df.geometry[0]"
   ]
  },
  {
   "cell_type": "markdown",
   "id": "3ba036a6",
   "metadata": {
    "hidden": true
   },
   "source": [
    "## Shape files"
   ]
  },
  {
   "cell_type": "code",
   "execution_count": 4,
   "id": "a326c961",
   "metadata": {
    "hidden": true
   },
   "outputs": [],
   "source": [
    "df = gpd.read_file('Data/point_linestring/kruispunten.shp')"
   ]
  },
  {
   "cell_type": "markdown",
   "id": "99df5d1e",
   "metadata": {
    "hidden": true
   },
   "source": [
    "Let's take a look at the first few rows of the data frame"
   ]
  },
  {
   "cell_type": "code",
   "execution_count": 5,
   "id": "794b9c75",
   "metadata": {
    "hidden": true
   },
   "outputs": [
    {
     "data": {
      "text/html": [
       "<div>\n",
       "<style scoped>\n",
       "    .dataframe tbody tr th:only-of-type {\n",
       "        vertical-align: middle;\n",
       "    }\n",
       "\n",
       "    .dataframe tbody tr th {\n",
       "        vertical-align: top;\n",
       "    }\n",
       "\n",
       "    .dataframe thead th {\n",
       "        text-align: right;\n",
       "    }\n",
       "</style>\n",
       "<table border=\"1\" class=\"dataframe\">\n",
       "  <thead>\n",
       "    <tr style=\"text-align: right;\">\n",
       "      <th></th>\n",
       "      <th>OMSCHR</th>\n",
       "      <th>VOORZ_VOP</th>\n",
       "      <th>VOORZ_FOP</th>\n",
       "      <th>VOORZ_VRI</th>\n",
       "      <th>RIJRTNGHRB</th>\n",
       "      <th>RIJRTNGZIJ</th>\n",
       "      <th>AFBUIGING</th>\n",
       "      <th>INVENT_OMS</th>\n",
       "      <th>WVK_ID</th>\n",
       "      <th>WVK_BEGDAT</th>\n",
       "      <th>AFSTAND</th>\n",
       "      <th>FK_VELD1</th>\n",
       "      <th>FK_VELD4</th>\n",
       "      <th>IBN</th>\n",
       "      <th>geometry</th>\n",
       "    </tr>\n",
       "  </thead>\n",
       "  <tbody>\n",
       "    <tr>\n",
       "      <th>0</th>\n",
       "      <td>T-kruispunt met voorrangsregeling</td>\n",
       "      <td>N</td>\n",
       "      <td>N</td>\n",
       "      <td>N</td>\n",
       "      <td>Alleen rechtdoor, er geldt geen keerverbod op ...</td>\n",
       "      <td>None</td>\n",
       "      <td>None</td>\n",
       "      <td>VBW.c =RW.  7</td>\n",
       "      <td>600126457</td>\n",
       "      <td>2019-02-01</td>\n",
       "      <td>35</td>\n",
       "      <td>060012645720190201</td>\n",
       "      <td>KPK0000877719</td>\n",
       "      <td>I</td>\n",
       "      <td>POINT (131221.686 549197.449)</td>\n",
       "    </tr>\n",
       "    <tr>\n",
       "      <th>1</th>\n",
       "      <td>Kruispunt zonder voorrangsregeling</td>\n",
       "      <td>N</td>\n",
       "      <td>N</td>\n",
       "      <td>J</td>\n",
       "      <td>Alle rijrichtingen toegestaan bij een gelijkvl...</td>\n",
       "      <td>None</td>\n",
       "      <td>None</td>\n",
       "      <td>VBW.a en b RW.4                AANSLUITING VLI...</td>\n",
       "      <td>600106352</td>\n",
       "      <td>2020-10-01</td>\n",
       "      <td>9</td>\n",
       "      <td>060010635220201001</td>\n",
       "      <td>KPK0001035645</td>\n",
       "      <td>I</td>\n",
       "      <td>POINT (86877.515 454509.979)</td>\n",
       "    </tr>\n",
       "    <tr>\n",
       "      <th>2</th>\n",
       "      <td>T-kruispunt met een linksafvak in de hoofdrijbaan</td>\n",
       "      <td>N</td>\n",
       "      <td>N</td>\n",
       "      <td>J</td>\n",
       "      <td>Alle rijrichtingen toegestaan bij een zijstraat</td>\n",
       "      <td>None</td>\n",
       "      <td>None</td>\n",
       "      <td>OMMERWEG</td>\n",
       "      <td>600149724</td>\n",
       "      <td>2019-02-01</td>\n",
       "      <td>9</td>\n",
       "      <td>060014972420190201</td>\n",
       "      <td>KPK0000877777</td>\n",
       "      <td>I</td>\n",
       "      <td>POINT (216407.551 489182.543)</td>\n",
       "    </tr>\n",
       "    <tr>\n",
       "      <th>3</th>\n",
       "      <td>T-kruispunt met fysieke scheiding van de rijbanen</td>\n",
       "      <td>N</td>\n",
       "      <td>N</td>\n",
       "      <td>J</td>\n",
       "      <td>Alle rijrichtingen toegestaan bij een zijstraat</td>\n",
       "      <td>None</td>\n",
       "      <td>None</td>\n",
       "      <td>VBW.c &amp; d =RW. 15</td>\n",
       "      <td>600112636</td>\n",
       "      <td>2019-02-01</td>\n",
       "      <td>4</td>\n",
       "      <td>060011263620190201</td>\n",
       "      <td>KPK0000877782</td>\n",
       "      <td>I</td>\n",
       "      <td>POINT (102849.154 430261.099)</td>\n",
       "    </tr>\n",
       "    <tr>\n",
       "      <th>4</th>\n",
       "      <td>Pseudo kruispunt met fysieke scheiding van de ...</td>\n",
       "      <td>N</td>\n",
       "      <td>J</td>\n",
       "      <td>J</td>\n",
       "      <td>Alle rijrichtingen toegestaan bij een gelijkvl...</td>\n",
       "      <td>None</td>\n",
       "      <td>None</td>\n",
       "      <td>NOORDEINDE</td>\n",
       "      <td>600112412</td>\n",
       "      <td>2019-02-01</td>\n",
       "      <td>10</td>\n",
       "      <td>060011241220190201</td>\n",
       "      <td>KPK0000877783</td>\n",
       "      <td>I</td>\n",
       "      <td>POINT (103913.101 429922.414)</td>\n",
       "    </tr>\n",
       "  </tbody>\n",
       "</table>\n",
       "</div>"
      ],
      "text/plain": [
       "                                              OMSCHR VOORZ_VOP VOORZ_FOP  \\\n",
       "0                  T-kruispunt met voorrangsregeling         N         N   \n",
       "1                 Kruispunt zonder voorrangsregeling         N         N   \n",
       "2  T-kruispunt met een linksafvak in de hoofdrijbaan         N         N   \n",
       "3  T-kruispunt met fysieke scheiding van de rijbanen         N         N   \n",
       "4  Pseudo kruispunt met fysieke scheiding van de ...         N         J   \n",
       "\n",
       "  VOORZ_VRI                                         RIJRTNGHRB RIJRTNGZIJ  \\\n",
       "0         N  Alleen rechtdoor, er geldt geen keerverbod op ...       None   \n",
       "1         J  Alle rijrichtingen toegestaan bij een gelijkvl...       None   \n",
       "2         J    Alle rijrichtingen toegestaan bij een zijstraat       None   \n",
       "3         J    Alle rijrichtingen toegestaan bij een zijstraat       None   \n",
       "4         J  Alle rijrichtingen toegestaan bij een gelijkvl...       None   \n",
       "\n",
       "  AFBUIGING                                         INVENT_OMS     WVK_ID  \\\n",
       "0      None                                      VBW.c =RW.  7  600126457   \n",
       "1      None  VBW.a en b RW.4                AANSLUITING VLI...  600106352   \n",
       "2      None                                           OMMERWEG  600149724   \n",
       "3      None                                  VBW.c & d =RW. 15  600112636   \n",
       "4      None                                         NOORDEINDE  600112412   \n",
       "\n",
       "   WVK_BEGDAT  AFSTAND            FK_VELD1       FK_VELD4 IBN  \\\n",
       "0  2019-02-01       35  060012645720190201  KPK0000877719   I   \n",
       "1  2020-10-01        9  060010635220201001  KPK0001035645   I   \n",
       "2  2019-02-01        9  060014972420190201  KPK0000877777   I   \n",
       "3  2019-02-01        4  060011263620190201  KPK0000877782   I   \n",
       "4  2019-02-01       10  060011241220190201  KPK0000877783   I   \n",
       "\n",
       "                        geometry  \n",
       "0  POINT (131221.686 549197.449)  \n",
       "1   POINT (86877.515 454509.979)  \n",
       "2  POINT (216407.551 489182.543)  \n",
       "3  POINT (102849.154 430261.099)  \n",
       "4  POINT (103913.101 429922.414)  "
      ]
     },
     "execution_count": 5,
     "metadata": {},
     "output_type": "execute_result"
    }
   ],
   "source": [
    "df.head()"
   ]
  },
  {
   "cell_type": "markdown",
   "id": "6f4f99cb",
   "metadata": {
    "hidden": true
   },
   "source": [
    "To the right most of the printed data, there is the `geometry` column which indicates the geographical information of objects. They are essentially points where there are cross sections on the related road network. Information related to these points are shown in other columns, such as `WVK_ID` - segment id that these points belong to."
   ]
  },
  {
   "cell_type": "markdown",
   "id": "753fdd6e",
   "metadata": {
    "hidden": true
   },
   "source": [
    "Information about the coordinate reference system"
   ]
  },
  {
   "cell_type": "code",
   "execution_count": null,
   "id": "a9f1a08f",
   "metadata": {
    "hidden": true
   },
   "outputs": [],
   "source": [
    "df.crs"
   ]
  },
  {
   "cell_type": "markdown",
   "id": "58b1e111",
   "metadata": {
    "hidden": true
   },
   "source": [
    "To show the coordinates of the first point"
   ]
  },
  {
   "cell_type": "code",
   "execution_count": null,
   "id": "6c81a587",
   "metadata": {
    "hidden": true
   },
   "outputs": [],
   "source": [
    "print(df.geometry[0])"
   ]
  },
  {
   "cell_type": "markdown",
   "id": "bf53691e",
   "metadata": {
    "hidden": true
   },
   "source": [
    "Or plot it, we will only get a dot though"
   ]
  },
  {
   "cell_type": "code",
   "execution_count": null,
   "id": "8affc2ab",
   "metadata": {
    "hidden": true
   },
   "outputs": [],
   "source": [
    "df.geometry[0]"
   ]
  },
  {
   "cell_type": "markdown",
   "id": "188598cb",
   "metadata": {
    "heading_collapsed": true
   },
   "source": [
    "# Point data visualisation"
   ]
  },
  {
   "cell_type": "markdown",
   "id": "6cc68ab1",
   "metadata": {
    "heading_collapsed": true,
    "hidden": true
   },
   "source": [
    "## Create a base map with folium"
   ]
  },
  {
   "cell_type": "code",
   "execution_count": null,
   "id": "959a6848",
   "metadata": {
    "hidden": true
   },
   "outputs": [],
   "source": [
    "map = folium.Map(\n",
    "    location=[51.94, 4.46],\n",
    "    zoom_start=10\n",
    ")\n",
    "# show the map\n",
    "map"
   ]
  },
  {
   "cell_type": "markdown",
   "id": "d4a8c823",
   "metadata": {
    "hidden": true
   },
   "source": [
    "## GeoJson overlay"
   ]
  },
  {
   "cell_type": "markdown",
   "id": "ea41d1a9",
   "metadata": {
    "hidden": true
   },
   "source": [
    "We can visualise our geospatial data by adding a GeoJson overlay of the map.  \n",
    "See `folium.features.GeoJson` in [this website](https://python-visualization.github.io/folium/modules.html#folium.features.GeoJsonTooltip) for more information about the function"
   ]
  },
  {
   "cell_type": "code",
   "execution_count": null,
   "id": "ff4e087c",
   "metadata": {
    "hidden": true
   },
   "outputs": [],
   "source": [
    "gjson = folium.features.GeoJson(\n",
    "    df,\n",
    ").add_to(map)\n",
    "\n",
    "map"
   ]
  },
  {
   "cell_type": "markdown",
   "id": "59e89846",
   "metadata": {
    "hidden": true
   },
   "source": [
    "## Popup"
   ]
  },
  {
   "cell_type": "markdown",
   "id": "6f89f893",
   "metadata": {
    "hidden": true
   },
   "source": [
    "The map just show locations of points.  \n",
    "To visualise information to the points, we can use `GeoJsonPopup` which popups selected features associating with the points being clicked on."
   ]
  },
  {
   "cell_type": "code",
   "execution_count": null,
   "id": "6f8bcc30",
   "metadata": {
    "hidden": true
   },
   "outputs": [],
   "source": [
    "folium.features.GeoJsonPopup(\n",
    "    fields=['OMSCHR', 'RIJRTNGHRB'],\n",
    "    aliases=['OMSCHR', 'RIJRTNGHRB'],\n",
    "    labels=True\n",
    ").add_to(gjson)\n",
    "map"
   ]
  },
  {
   "cell_type": "markdown",
   "id": "eb322939",
   "metadata": {
    "heading_collapsed": true
   },
   "source": [
    "# Optional: Marker customisations (colors, ...)"
   ]
  },
  {
   "cell_type": "code",
   "execution_count": null,
   "id": "b70a2c16",
   "metadata": {
    "hidden": true
   },
   "outputs": [],
   "source": []
  }
 ],
 "metadata": {
  "kernelspec": {
   "display_name": "Python 3.8.13 ('gis')",
   "language": "python",
   "name": "python3"
  },
  "language_info": {
   "codemirror_mode": {
    "name": "ipython",
    "version": 3
   },
   "file_extension": ".py",
   "mimetype": "text/x-python",
   "name": "python",
   "nbconvert_exporter": "python",
   "pygments_lexer": "ipython3",
   "version": "3.8.13"
  },
  "vscode": {
   "interpreter": {
    "hash": "19997d51ff5e78310dadbe203cf791ff62c692fc17c46c3edb5f85b899fb843c"
   }
  }
 },
 "nbformat": 4,
 "nbformat_minor": 5
}
