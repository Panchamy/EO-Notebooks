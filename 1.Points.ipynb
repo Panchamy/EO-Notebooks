{
 "cells": [
  {
   "cell_type": "markdown",
   "id": "6a2a0386",
   "metadata": {
    "heading_collapsed": true
   },
   "source": [
    "# Point data\n"
   ]
  },
  {
   "cell_type": "code",
   "execution_count": null,
   "id": "3aaf7bf1",
   "metadata": {
    "hidden": true
   },
   "outputs": [],
   "source": [
    "import geopandas as gpd\n",
    "import folium\n",
    "import json\n",
    "import branca"
   ]
  },
  {
   "cell_type": "markdown",
   "id": "3ef5b205",
   "metadata": {
    "heading_collapsed": true
   },
   "source": [
    "# Point data formats"
   ]
  },
  {
   "cell_type": "markdown",
   "id": "969629ff",
   "metadata": {
    "hidden": true
   },
   "source": [
    "Read geospatial data from a shapefile/geojson using geopandas built-in function `read_file`"
   ]
  },
  {
   "cell_type": "markdown",
   "id": "0d2f36a8",
   "metadata": {
    "hidden": true
   },
   "source": [
    "## Geojson files"
   ]
  },
  {
   "cell_type": "code",
   "execution_count": null,
   "id": "7abfa422",
   "metadata": {
    "hidden": true
   },
   "outputs": [],
   "source": [
    "df = gpd.read_file('Data/point_linestring/traj.geojson')"
   ]
  },
  {
   "cell_type": "code",
   "execution_count": null,
   "id": "ce6a8ec4",
   "metadata": {
    "hidden": true
   },
   "outputs": [],
   "source": [
    "df"
   ]
  },
  {
   "cell_type": "code",
   "execution_count": null,
   "id": "70128fb5",
   "metadata": {
    "hidden": true
   },
   "outputs": [],
   "source": [
    "df.geometry[0]"
   ]
  },
  {
   "cell_type": "markdown",
   "id": "3ba036a6",
   "metadata": {
    "hidden": true
   },
   "source": [
    "## Shape files"
   ]
  },
  {
   "cell_type": "code",
   "execution_count": null,
   "id": "a326c961",
   "metadata": {
    "hidden": true
   },
   "outputs": [],
   "source": [
    "df = gpd.read_file('Data/point_linestring/Kruispunten/kruispunten.shp')"
   ]
  },
  {
   "cell_type": "markdown",
   "id": "99df5d1e",
   "metadata": {
    "hidden": true
   },
   "source": [
    "Let's take a look at the first few rows of the data frame"
   ]
  },
  {
   "cell_type": "code",
   "execution_count": null,
   "id": "794b9c75",
   "metadata": {
    "hidden": true
   },
   "outputs": [],
   "source": [
    "df.head()"
   ]
  },
  {
   "cell_type": "markdown",
   "id": "6f4f99cb",
   "metadata": {
    "hidden": true
   },
   "source": [
    "To the right most of the printed data, there is the `geometry` column which indicates the geographical information of objects. They are essentially points where there are cross sections on the related road network. Information related to these points are shown in other columns, such as `WVK_ID` - segment id that these points belong to."
   ]
  },
  {
   "cell_type": "markdown",
   "id": "753fdd6e",
   "metadata": {
    "hidden": true
   },
   "source": [
    "Information about the coordinate reference system"
   ]
  },
  {
   "cell_type": "code",
   "execution_count": null,
   "id": "a9f1a08f",
   "metadata": {
    "hidden": true
   },
   "outputs": [],
   "source": [
    "df.crs"
   ]
  },
  {
   "cell_type": "markdown",
   "id": "58b1e111",
   "metadata": {
    "hidden": true
   },
   "source": [
    "To show the coordinates of the first point"
   ]
  },
  {
   "cell_type": "code",
   "execution_count": null,
   "id": "6c81a587",
   "metadata": {
    "hidden": true
   },
   "outputs": [],
   "source": [
    "print(df.geometry[0])"
   ]
  },
  {
   "cell_type": "markdown",
   "id": "bf53691e",
   "metadata": {
    "hidden": true
   },
   "source": [
    "Or plot it, we will only get a dot though"
   ]
  },
  {
   "cell_type": "code",
   "execution_count": null,
   "id": "8affc2ab",
   "metadata": {
    "hidden": true
   },
   "outputs": [],
   "source": [
    "df.geometry[0]"
   ]
  },
  {
   "cell_type": "markdown",
   "id": "188598cb",
   "metadata": {
    "heading_collapsed": true
   },
   "source": [
    "# Point data visualisation"
   ]
  },
  {
   "cell_type": "markdown",
   "id": "6cc68ab1",
   "metadata": {
    "heading_collapsed": true,
    "hidden": true
   },
   "source": [
    "## Create a base map with folium"
   ]
  },
  {
   "cell_type": "code",
   "execution_count": null,
   "id": "959a6848",
   "metadata": {
    "hidden": true
   },
   "outputs": [],
   "source": [
    "map = folium.Map(\n",
    "    location=[51.94, 4.46],\n",
    "    zoom_start=10\n",
    ")\n",
    "# show the map\n",
    "map"
   ]
  },
  {
   "cell_type": "markdown",
   "id": "d4a8c823",
   "metadata": {
    "hidden": true
   },
   "source": [
    "## GeoJson overlay"
   ]
  },
  {
   "cell_type": "markdown",
   "id": "ea41d1a9",
   "metadata": {
    "hidden": true
   },
   "source": [
    "We can visualise our geospatial data by adding a GeoJson overlay of the map.  \n",
    "See `folium.features.GeoJson` in [this website](https://python-visualization.github.io/folium/modules.html#folium.features.GeoJsonTooltip) for more information about the function"
   ]
  },
  {
   "cell_type": "code",
   "execution_count": null,
   "id": "ff4e087c",
   "metadata": {
    "hidden": true
   },
   "outputs": [],
   "source": [
    "gjson = folium.features.GeoJson(\n",
    "    df,\n",
    ").add_to(map)\n",
    "\n",
    "map"
   ]
  },
  {
   "cell_type": "markdown",
   "id": "59e89846",
   "metadata": {
    "hidden": true
   },
   "source": [
    "## Popup"
   ]
  },
  {
   "cell_type": "markdown",
   "id": "6f89f893",
   "metadata": {
    "hidden": true
   },
   "source": [
    "The map just show locations of points.  \n",
    "To visualise information to the points, we can use `GeoJsonPopup` which popups selected features associating with the points being clicked on."
   ]
  },
  {
   "cell_type": "code",
   "execution_count": null,
   "id": "6f8bcc30",
   "metadata": {
    "hidden": true
   },
   "outputs": [],
   "source": [
    "folium.features.GeoJsonPopup(\n",
    "    fields=['OMSCHR', 'RIJRTNGHRB'],\n",
    "    aliases=['OMSCHR', 'RIJRTNGHRB'],\n",
    "    labels=True\n",
    ").add_to(gjson)\n",
    "map"
   ]
  },
  {
   "cell_type": "markdown",
   "id": "eb322939",
   "metadata": {
    "heading_collapsed": true
   },
   "source": [
    "# Optional: Marker customisations (colors, ...)"
   ]
  },
  {
   "cell_type": "code",
   "execution_count": null,
   "id": "b70a2c16",
   "metadata": {
    "hidden": true
   },
   "outputs": [],
   "source": []
  }
 ],
 "metadata": {
  "kernelspec": {
   "display_name": "Python 3 (ipykernel)",
   "language": "python",
   "name": "python3"
  },
  "language_info": {
   "codemirror_mode": {
    "name": "ipython",
    "version": 3
   },
   "file_extension": ".py",
   "mimetype": "text/x-python",
   "name": "python",
   "nbconvert_exporter": "python",
   "pygments_lexer": "ipython3",
   "version": "3.7.11"
  },
  "vscode": {
   "interpreter": {
    "hash": "8a2fe6d3f24c831e4ac25973d4dc1bc7deb0e2b006a19b6d82b81e5c2cb0359b"
   }
  }
 },
 "nbformat": 4,
 "nbformat_minor": 5
}
