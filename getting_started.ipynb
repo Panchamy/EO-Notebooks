{
 "cells": [
  {
   "cell_type": "markdown",
   "metadata": {},
   "source": [
    "# Getting started on geospatial visualisation\n",
    "\n",
    "<aside style=\"background-color: #fbf2db; margin: 1em 0px; padding: 0.5em 1.5em 1em 3.7em; font-size: 0.9em;\">\n",
    "<h3 style=\"position: relative;\"><i style=\"position: absolute; left: -2.15em; top: -0.2em;\"><img src=\"https://icon-library.com/images/purpose-icon/purpose-icon-25.jpg\" alt=\"Checklist\" style=\"width: 1.5em; max-width: 100%;\"></i>By the end of this section, you should be able to:</h3>\n",
    "<ul>\n",
    "<li>describe the different types of geospatial data</li>\n",
    "<li>use python libraries to load, analyse and visualise geospatial data</li>\n",
    "<li>use  visualisation to analyse interaction between different geospatial data</li>\n",
    "</ul>\n",
    "</aside>\n",
    "\n",
    "<aside style=\"background-color: #e7f3f7; margin: 1em 0px; padding: 0.5em 1.5em 1em 3.7em; font-size: 0.9em;\">\n",
    "<h3 style=\"position: relative;\"><i style=\"position: absolute; left: -2.15em; top: -0.2em;\"><img src=\"https://icon-library.com/images/3c353c6c9c.png\" alt=\"Information\" style=\"width: 1.5em; max-width: 100%;\"></i>The workshop is divided as:</h3>\n",
    "<ul>\n",
    "<li>introduction to raster data [1.5 hours]</li>\n",
    "<li>introduction to vector data - points, line and polygons [1.5 hours]</li>\n",
    "<li>case study which combines raster and vector data [1 hour]</li>\n",
    "</ul>\n",
    "</aside>\n",
    "\n",
    "<p></p>"
   ]
  },
  {
   "cell_type": "markdown",
   "metadata": {},
   "source": [
    "# Introduction to vector data"
   ]
  },
  {
   "cell_type": "markdown",
   "metadata": {},
   "source": [
    "<aside style=\"background-color: #e7f3f7; margin: 1em 0px; padding: 0.5em 1.5em 1em 3.7em; font-size: 0.9em;\">\n",
    "<h3 style=\"position: relative;\"><i style=\"position: absolute; left: -2.15em; top: -0.2em;\"><img src=\"https://icon-library.com/images/3c353c6c9c.png\" alt=\"Information\" style=\"width: 1.5em; max-width: 100%;\"></i>In this session, the following topics will be covered:</h3>\n",
    "<ul>\n",
    "<li>vector data formats</li>\n",
    "<li>vector data structures</li>\n",
    "<li>vector data visualisation</li>\n",
    "</ul>\n",
    "</aside>"
   ]
  },
  {
   "cell_type": "markdown",
   "metadata": {},
   "source": []
  }
 ],
 "metadata": {
  "interpreter": {
   "hash": "31f2aee4e71d21fbe5cf8b01ff0e069b9275f58929596ceb00d14d90e3e16cd6"
  },
  "kernelspec": {
   "display_name": "",
   "language": "python",
   "name": "python3"
  },
  "language_info": {
   "codemirror_mode": {
    "name": "ipython",
    "version": 3
   },
   "file_extension": ".py",
   "mimetype": "text/x-python",
   "name": "python",
   "nbconvert_exporter": "python",
   "pygments_lexer": "ipython3",
   "version": "3.8.2"
  },
  "orig_nbformat": 4
 },
 "nbformat": 4,
 "nbformat_minor": 2
}
