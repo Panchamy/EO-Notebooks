{
 "cells": [
  {
   "cell_type": "code",
   "execution_count": 18,
   "metadata": {},
   "outputs": [],
   "source": [
    "import geopandas as gpd\n",
    "import pandas as pd\n",
    "import folium\n",
    "import matplotlib.pyplot as plt\n",
    "# import seaborn as sns\n",
    "%matplotlib inline\n",
    "import pickle\n",
    "from streamlit_folium import folium_static"
   ]
  },
  {
   "cell_type": "markdown",
   "metadata": {},
   "source": [
    "A _polygon_ is a GIS object  that consists of a series of x and y coordinate pairs that enclose an area.\n",
    "\n",
    "The polygon data consist of the 4-digit postal code zones of two provinces in the Netherlands: Utrecht, and Noord-Holland. This vector data is in the format of '.SHP' and contains 65 polygons. "
   ]
  },
  {
   "cell_type": "code",
   "execution_count": 19,
   "metadata": {},
   "outputs": [
    {
     "data": {
      "text/plain": [
       "205"
      ]
     },
     "execution_count": 19,
     "metadata": {},
     "output_type": "execute_result"
    }
   ],
   "source": [
    "data = gpd.read_file('polygon/Utrecht_NoordHolland.SHP', geometry='geometry')\n",
    "data.head(3)\n",
    "len(data)"
   ]
  },
  {
   "cell_type": "code",
   "execution_count": 20,
   "metadata": {},
   "outputs": [
    {
     "data": {
      "text/plain": [
       "<AxesSubplot:>"
      ]
     },
     "execution_count": 20,
     "metadata": {},
     "output_type": "execute_result"
    },
    {
     "data": {
      "image/png": "[encoded data removed]",
      "text/plain": [
       "<Figure size 432x288 with 1 Axes>"
      ]
     },
     "metadata": {
      "needs_background": "light"
     },
     "output_type": "display_data"
    }
   ],
   "source": [
    "data.plot(column = 'inhabitant', scheme='quantiles', cmap='YlOrRd')"
   ]
  },
  {
   "cell_type": "code",
   "execution_count": 21,
   "metadata": {},
   "outputs": [
    {
     "data": {
      "text/plain": [
       "<Projected CRS: EPSG:28992>\n",
       "Name: Amersfoort / RD New\n",
       "Axis Info [cartesian]:\n",
       "- X[east]: Easting (metre)\n",
       "- Y[north]: Northing (metre)\n",
       "Area of Use:\n",
       "- name: Netherlands - onshore, including Waddenzee, Dutch Wadden Islands and 12-mile offshore coastal zone.\n",
       "- bounds: (3.2, 50.75, 7.22, 53.7)\n",
       "Coordinate Operation:\n",
       "- name: RD New\n",
       "- method: Oblique Stereographic\n",
       "Datum: Amersfoort\n",
       "- Ellipsoid: Bessel 1841\n",
       "- Prime Meridian: Greenwich"
      ]
     },
     "execution_count": 21,
     "metadata": {},
     "output_type": "execute_result"
    }
   ],
   "source": [
    "data.columns\n",
    "data.crs"
   ]
  },
  {
   "cell_type": "code",
   "execution_count": 22,
   "metadata": {},
   "outputs": [
    {
     "name": "stdout",
     "output_type": "stream",
     "text": [
      "epsg:4326\n"
     ]
    },
    {
     "data": {
      "text/html": [
       "<div>\n",
       "<style scoped>\n",
       "    .dataframe tbody tr th:only-of-type {\n",
       "        vertical-align: middle;\n",
       "    }\n",
       "\n",
       "    .dataframe tbody tr th {\n",
       "        vertical-align: top;\n",
       "    }\n",
       "\n",
       "    .dataframe thead th {\n",
       "        text-align: right;\n",
       "    }\n",
       "</style>\n",
       "<table border=\"1\" class=\"dataframe\">\n",
       "  <thead>\n",
       "    <tr style=\"text-align: right;\">\n",
       "      <th></th>\n",
       "      <th>mzr_id</th>\n",
       "      <th>mzr_name</th>\n",
       "      <th>wnp_id</th>\n",
       "      <th>wnp_name</th>\n",
       "      <th>gem_id</th>\n",
       "      <th>gem_name</th>\n",
       "      <th>prov_id</th>\n",
       "      <th>prov_name</th>\n",
       "      <th>inhabitant</th>\n",
       "      <th>address_co</th>\n",
       "      <th>NEAR_FID</th>\n",
       "      <th>NEAR_DIST</th>\n",
       "      <th>geometry</th>\n",
       "    </tr>\n",
       "  </thead>\n",
       "  <tbody>\n",
       "    <tr>\n",
       "      <th>0</th>\n",
       "      <td>7142</td>\n",
       "      <td>Wieringerwaard e.o.</td>\n",
       "      <td>3187</td>\n",
       "      <td>Wieringerwaard</td>\n",
       "      <td>1911</td>\n",
       "      <td>Hollands Kroon</td>\n",
       "      <td>27</td>\n",
       "      <td>Noord-Holland</td>\n",
       "      <td>8020.0</td>\n",
       "      <td>3566.0</td>\n",
       "      <td>19990</td>\n",
       "      <td>4006.929967</td>\n",
       "      <td>POLYGON ((4.87271 52.73158, 4.87312 52.73124, ...</td>\n",
       "    </tr>\n",
       "    <tr>\n",
       "      <th>1</th>\n",
       "      <td>7108</td>\n",
       "      <td>Nibbixwoud e.o.</td>\n",
       "      <td>3153</td>\n",
       "      <td>Nibbixwoud</td>\n",
       "      <td>420</td>\n",
       "      <td>Medemblik</td>\n",
       "      <td>27</td>\n",
       "      <td>Noord-Holland</td>\n",
       "      <td>4865.0</td>\n",
       "      <td>2340.0</td>\n",
       "      <td>15468</td>\n",
       "      <td>147.141043</td>\n",
       "      <td>POLYGON ((5.14446 52.69637, 5.12731 52.69167, ...</td>\n",
       "    </tr>\n",
       "  </tbody>\n",
       "</table>\n",
       "</div>"
      ],
      "text/plain": [
       "   mzr_id             mzr_name  wnp_id        wnp_name  gem_id  \\\n",
       "0    7142  Wieringerwaard e.o.    3187  Wieringerwaard    1911   \n",
       "1    7108      Nibbixwoud e.o.    3153      Nibbixwoud     420   \n",
       "\n",
       "         gem_name  prov_id      prov_name  inhabitant  address_co  NEAR_FID  \\\n",
       "0  Hollands Kroon       27  Noord-Holland      8020.0      3566.0     19990   \n",
       "1       Medemblik       27  Noord-Holland      4865.0      2340.0     15468   \n",
       "\n",
       "     NEAR_DIST                                           geometry  \n",
       "0  4006.929967  POLYGON ((4.87271 52.73158, 4.87312 52.73124, ...  \n",
       "1   147.141043  POLYGON ((5.14446 52.69637, 5.12731 52.69167, ...  "
      ]
     },
     "execution_count": 22,
     "metadata": {},
     "output_type": "execute_result"
    }
   ],
   "source": [
    "# Use WGS 84 (epsg:4326) as the geographic coordinate system\n",
    "data = data.to_crs(epsg=4326)\n",
    "print(data.crs)\n",
    "data.head(2)"
   ]
  },
  {
   "cell_type": "code",
   "execution_count": 23,
   "metadata": {},
   "outputs": [
    {
     "data": {
      "text/plain": [
       "DeltaGenerator(_root_container=0, _provided_cursor=None, _parent=None, _block_type=None, _form_data=None)"
      ]
     },
     "execution_count": 23,
     "metadata": {},
     "output_type": "execute_result"
    }
   ],
   "source": [
    "\n",
    "import geopandas as gpd\n",
    "import pandas as pd\n",
    "import folium\n",
    "import matplotlib.pyplot as plt\n",
    "# import seaborn as sns\n",
    "# %matplotlib inline\n",
    "import pickle\n",
    "from streamlit_folium import folium_static\n",
    "\n",
    "\n",
    "data = gpd.read_file('polygon/Utrecht_NoordHolland.SHP', geometry='geometry')\n",
    "\n",
    "basic_map = folium.Map(location=[52.08987363597544, 5.109621734475478], tiles='openstreetmap', zoom_start=13)\n",
    "folium.GeoJson(data = data['geometry']).add_to(basic_map)\n",
    "# MousePosition().add_to(basic_map)\n",
    "folium_static(basic_map, width=500, height=300)"
   ]
  },
  {
   "cell_type": "markdown",
   "metadata": {},
   "source": [
    "# Analysis \n",
    "In a non-spatial setting, when all we need are summary statistics of the data, we aggregate our data using the `groupby()` function. But for spatial data, we sometimes also need to aggregate geometric features. In the geopandas library, we can aggregate geometric features using the `dissolve()` function."
   ]
  },
  {
   "cell_type": "code",
   "execution_count": 35,
   "metadata": {},
   "outputs": [
    {
     "data": {
      "text/plain": [
       "<AxesSubplot:>"
      ]
     },
     "execution_count": 35,
     "metadata": {},
     "output_type": "execute_result"
    },
    {
     "data": {
      "image/png": "[encoded data removed]",
      "text/plain": [
       "<Figure size 432x288 with 1 Axes>"
      ]
     },
     "metadata": {
      "needs_background": "light"
     },
     "output_type": "display_data"
    }
   ],
   "source": [
    "data.dissolve(by='prov_name', aggfunc='sum').plot(column = 'inhabitant', scheme='quantiles', cmap='YlOrRd')\n",
    "# data.columns\n",
    "# data.prov_name"
   ]
  }
 ],
 "metadata": {
  "interpreter": {
   "hash": "e9e9c2e58f8a7c5a5ffa256c97b13a2fac43afb9bf248ecd7861bc2948606924"
  },
  "kernelspec": {
   "display_name": "Python 3.8.12 ('ODmatrices')",
   "language": "python",
   "name": "python3"
  },
  "language_info": {
   "codemirror_mode": {
    "name": "ipython",
    "version": 3
   },
   "file_extension": ".py",
   "mimetype": "text/x-python",
   "name": "python",
   "nbconvert_exporter": "python",
   "pygments_lexer": "ipython3",
   "version": "3.8.12"
  },
  "orig_nbformat": 4
 },
 "nbformat": 4,
 "nbformat_minor": 2
}
