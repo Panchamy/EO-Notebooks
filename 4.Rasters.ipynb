{
 "nbformat": 4,
 "nbformat_minor": 0,
 "metadata": {
  "colab": {
   "name": "RS_Notebook2_Loading-RS-data-in-python.ipynb",
   "provenance": [],
   "toc_visible": true,
   "authorship_tag": "ABX9TyNGQxkTqdRUdxhBL1LsVK1s",
   "include_colab_link": true
  },
  "kernelspec": {
   "name": "python3",
   "display_name": "Python 3"
  },
  "language_info": {
   "name": "python"
  }
 },
 "cells": [
  {
   "cell_type": "markdown",
   "source": [
    "\n",
    "## Before you start\n",
    "Before starting this notebook make sure that you installed the necessary packages. In this notebook we use 'rasterio' as the package for handling raster data. You can find the complete manual of rasterio at [https://rasterio.readthedocs.io/](https://rasterio.readthedocs.io/en/latest/)"
   ],
   "metadata": {
    "collapsed": false
   }
  },
  {
   "cell_type": "markdown",
   "metadata": {
    "id": "abp_GOh89nNu"
   },
   "source": [
    "## Load the necessary packages\n",
    "\n",
    "We start by importing the necessary packages"
   ]
  },
  {
   "cell_type": "code",
   "metadata": {
    "id": "FpVKKwsf9nNv"
   },
   "source": [
    "import rasterio\n",
    "import matplotlib.pyplot as plt\n",
    "import numpy as np"
   ],
   "execution_count": 23,
   "outputs": []
  },
  {
   "cell_type": "markdown",
   "metadata": {
    "id": "vRSic-AkonZC"
   },
   "source": [
    "## Rasterio\n",
    "Once we have raster data on our computer, we can open them using `rasterio`. Rasterio reads and writes geospatial raster datasets. It employs GDAL under the hood for file I/O and raster formatting. Its functions typically accept and return Numpy ndarrays. Rasterio is designed to make working with geospatial raster data more productive and more fun.\n",
    "\n",
    "Consider a GeoTIFF file named `Data/case_study/geonode__fl1010irmt.tif` you will use in the case study. We first need to open it with rasterio"
   ]
  },
  {
   "cell_type": "code",
   "metadata": {
    "id": "z57WVDH2pwe7"
   },
   "source": [
    "filename = 'Data/case_study/geonode__fl1010irmt.tif'\n",
    "dataset = rasterio.open(filename)"
   ],
   "execution_count": 5,
   "outputs": []
  },
  {
   "cell_type": "markdown",
   "metadata": {
    "id": "WxeLqamqp33L"
   },
   "source": [
    "Rasterio’s open() function takes a path string or path-like object and returns an opened dataset object. The path may point to a file of any supported raster format. Rasterio will open it using the proper GDAL format driver. Dataset objects have some of the same attributes as Python file objects."
   ]
  },
  {
   "cell_type": "code",
   "metadata": {
    "colab": {
     "base_uri": "https://localhost:8080/",
     "height": 35
    },
    "id": "xM3T78WApy0M",
    "outputId": "a4657450-28ea-4a02-d5ec-b1d2d376f71f"
   },
   "source": [
    "dataset.name"
   ],
   "execution_count": 6,
   "outputs": [
    {
     "data": {
      "text/plain": "'Data/case_study/geonode__fl1010irmt.tif'"
     },
     "execution_count": 6,
     "metadata": {},
     "output_type": "execute_result"
    }
   ]
  },
  {
   "cell_type": "markdown",
   "metadata": {
    "id": "va8XLXzwqDhc"
   },
   "source": [
    "Properties of the raster data stored in the example GeoTIFF can be accessed through attributes of the opened dataset object. Dataset objects have bands/layers and this example has a band count of 1 this dataset has only one raster layer."
   ]
  },
  {
   "cell_type": "code",
   "metadata": {
    "colab": {
     "base_uri": "https://localhost:8080/"
    },
    "id": "Dw8g1A4Hp_Mt",
    "outputId": "c09c09a1-f9ef-4d7b-cb13-4b8c67507769"
   },
   "source": [
    "dataset.count"
   ],
   "execution_count": 4,
   "outputs": [
    {
     "data": {
      "text/plain": "1"
     },
     "execution_count": 4,
     "metadata": {},
     "output_type": "execute_result"
    }
   ]
  },
  {
   "cell_type": "markdown",
   "metadata": {
    "id": "brnsI6_gqWnt"
   },
   "source": [
    "A dataset band is an array of values representing the partial distribution of a single variable in 2-dimensional (2D) space. All band arrays of a dataset have the same number of rows and columns."
   ]
  },
  {
   "cell_type": "code",
   "metadata": {
    "colab": {
     "base_uri": "https://localhost:8080/"
    },
    "id": "JirZJ0ONqdXI",
    "outputId": "23a75a36-5d96-4a2b-dcad-f73e414997f2"
   },
   "source": [
    "print(dataset.width)\n",
    "print(dataset.height)"
   ],
   "execution_count": null,
   "outputs": [
    {
     "output_type": "stream",
     "text": [
      "1003\n",
      "905\n"
     ],
     "name": "stdout"
    }
   ]
  },
  {
   "cell_type": "markdown",
   "metadata": {
    "id": "h7iBrGjDqoYS"
   },
   "source": [
    "### Raster georeferencing\n",
    "A GIS raster dataset is different from an ordinary image; its elements (or “pixels”) are mapped to regions on the earth’s surface. Every pixels of a dataset is contained within a spatial bounding box. In this case it are the coordinates in the output `crs` we defined when exporting.\n",
    "\n"
   ]
  },
  {
   "cell_type": "code",
   "metadata": {
    "colab": {
     "base_uri": "https://localhost:8080/"
    },
    "id": "dbKUjJG_qhvi",
    "outputId": "96b29ba5-46b3-47aa-db30-978f42cc8b99"
   },
   "source": [
    "dataset.bounds"
   ],
   "execution_count": 7,
   "outputs": [
    {
     "data": {
      "text/plain": "BoundingBox(left=-180.0, bottom=-90.0, right=179.99999999999858, top=83.99999999999932)"
     },
     "execution_count": 7,
     "metadata": {},
     "output_type": "execute_result"
    }
   ]
  },
  {
   "cell_type": "code",
   "metadata": {
    "colab": {
     "base_uri": "https://localhost:8080/"
    },
    "id": "b7E3Uy31qsii",
    "outputId": "52969b0d-770e-4892-9837-38396342185f"
   },
   "source": [
    "dataset.crs"
   ],
   "execution_count": 8,
   "outputs": [
    {
     "data": {
      "text/plain": "CRS.from_epsg(4326)"
     },
     "execution_count": 8,
     "metadata": {},
     "output_type": "execute_result"
    }
   ]
  },
  {
   "cell_type": "markdown",
   "source": [
    "The value of DatasetReader.bounds attribute is derived from a more fundamental attribute: the dataset’s geospatial transform."
   ],
   "metadata": {
    "collapsed": false,
    "pycharm": {
     "name": "#%% md\n"
    }
   }
  },
  {
   "cell_type": "code",
   "execution_count": 16,
   "outputs": [
    {
     "data": {
      "text/plain": "Affine(0.08333333333333301, 0.0, -180.0,\n       0.0, -0.08333333333333301, 83.99999999999932)"
     },
     "execution_count": 16,
     "metadata": {},
     "output_type": "execute_result"
    }
   ],
   "source": [
    "dataset.transform"
   ],
   "metadata": {
    "collapsed": false,
    "pycharm": {
     "name": "#%%\n"
    }
   }
  },
  {
   "cell_type": "markdown",
   "metadata": {
    "id": "fjBm2hrfrLn6"
   },
   "source": [
    "### Reading raster data\n",
    "Data from a raster band can be accessed by the band’s index number. Following the GDAL convention, bands are indexed from 1 (and not 0 as in most python arrays)"
   ]
  },
  {
   "cell_type": "code",
   "metadata": {
    "id": "q2nmpzJprnsx"
   },
   "source": [
    "band1 = dataset.read(1)"
   ],
   "execution_count": 9,
   "outputs": []
  },
  {
   "cell_type": "markdown",
   "metadata": {
    "id": "vEs_8FMhr7o8"
   },
   "source": [
    "The read() method returns a Numpy N-D array."
   ]
  },
  {
   "cell_type": "code",
   "metadata": {
    "colab": {
     "base_uri": "https://localhost:8080/"
    },
    "id": "9qSBIpLfsALe",
    "outputId": "cd774024-aa0f-4b7d-9389-364aa2ce3805"
   },
   "source": [
    "band1"
   ],
   "execution_count": 10,
   "outputs": [
    {
     "data": {
      "text/plain": "array([[0, 0, 0, ..., 0, 0, 0],\n       [0, 0, 0, ..., 0, 0, 0],\n       [0, 0, 0, ..., 0, 0, 0],\n       ...,\n       [0, 0, 0, ..., 0, 0, 0],\n       [0, 0, 0, ..., 0, 0, 0],\n       [0, 0, 0, ..., 0, 0, 0]], dtype=uint8)"
     },
     "execution_count": 10,
     "metadata": {},
     "output_type": "execute_result"
    }
   ]
  },
  {
   "cell_type": "markdown",
   "metadata": {
    "id": "AX1HzrVXrpi8"
   },
   "source": [
    "Instead of reading single bands, all bands of the input dataset can also be read into a 3-dimensonal ndarray. Note that the interpretation of the 3 axes is `(bands, rows, columns)`. "
   ]
  },
  {
   "cell_type": "code",
   "metadata": {
    "colab": {
     "base_uri": "https://localhost:8080/"
    },
    "id": "0QWhuiT9sD8S",
    "outputId": "52697ea6-0796-4f79-ab30-f6438c3e49c3"
   },
   "source": [
    "bands = dataset.read()\n",
    "bands.shape"
   ],
   "execution_count": 11,
   "outputs": [
    {
     "data": {
      "text/plain": "(1, 2088, 4320)"
     },
     "execution_count": 11,
     "metadata": {},
     "output_type": "execute_result"
    }
   ]
  },
  {
   "cell_type": "markdown",
   "metadata": {
    "id": "Y2ga873NuNO0"
   },
   "source": [
    "The interpretation of a 3-dimension array read from rasterio is `(bands, rows, columns)` while image processing software like scikit-image, pillow and matplotlib are generally ordered as `(rows, columns, bands)` where number of rows defines the dataset’s height, the columns are the dataset’s width.\n",
    "\n",
    "Numpy provides a way to efficiently swap the axis order and you can use the following reshape functions to convert between raster and image axis order:\n",
    "\n"
   ]
  },
  {
   "cell_type": "code",
   "metadata": {
    "colab": {
     "base_uri": "https://localhost:8080/"
    },
    "id": "hAIlYz15ujnA",
    "outputId": "60718d3a-cdbf-4d3a-d107-a6949f4847ad"
   },
   "source": [
    "from rasterio.plot import reshape_as_raster, reshape_as_image\n",
    "# Convert to image\n",
    "image = reshape_as_image(bands)\n",
    "print(image.shape)\n",
    "# Convert back to raster\n",
    "raster = reshape_as_raster(image)\n",
    "print(raster.shape)"
   ],
   "execution_count": 12,
   "outputs": [
    {
     "name": "stdout",
     "output_type": "stream",
     "text": [
      "(2088, 4320, 1)\n",
      "(1, 2088, 4320)\n"
     ]
    }
   ]
  },
  {
   "cell_type": "markdown",
   "metadata": {
    "id": "DBQhetHhsYan"
   },
   "source": [
    "Irrespective to the ordering, values from the array can be addressed by their `band, row, column` index. Notice that now indexing starts again at 0 as in classic python arrays"
   ]
  },
  {
   "cell_type": "code",
   "metadata": {
    "colab": {
     "base_uri": "https://localhost:8080/"
    },
    "id": "LLiMBxklsG9E",
    "outputId": "fcb8c259-95f8-4d54-ec4f-346c543bdfcc"
   },
   "source": [
    "bands[0, 150, 100]"
   ],
   "execution_count": 13,
   "outputs": [
    {
     "data": {
      "text/plain": "0"
     },
     "execution_count": 13,
     "metadata": {},
     "output_type": "execute_result"
    }
   ]
  },
  {
   "cell_type": "markdown",
   "metadata": {
    "id": "nRAsmXkWvDZo"
   },
   "source": [
    "## Analyzing & plotting the data\n",
    "Once the data are downloaded and opened, we can start analyzing like classical numpy arrays\n",
    "\n"
   ]
  },
  {
   "cell_type": "code",
   "metadata": {
    "colab": {
     "base_uri": "https://localhost:8080/"
    },
    "id": "I_rjJNvWsyWr",
    "outputId": "84cb3342-3612-4fc8-8d91-c2d827a4f1bb"
   },
   "source": [
    "plus1 = bands[0,:,:]+1\n",
    "plus1"
   ],
   "execution_count": 14,
   "outputs": [
    {
     "data": {
      "text/plain": "array([[1, 1, 1, ..., 1, 1, 1],\n       [1, 1, 1, ..., 1, 1, 1],\n       [1, 1, 1, ..., 1, 1, 1],\n       ...,\n       [1, 1, 1, ..., 1, 1, 1],\n       [1, 1, 1, ..., 1, 1, 1],\n       [1, 1, 1, ..., 1, 1, 1]], dtype=uint8)"
     },
     "execution_count": 14,
     "metadata": {},
     "output_type": "execute_result"
    }
   ]
  },
  {
   "cell_type": "markdown",
   "metadata": {
    "id": "y3Rh-ao2x41V"
   },
   "source": [
    "We can off course also plot the data in a map using the mapping tools your learned last week"
   ]
  },
  {
   "cell_type": "code",
   "metadata": {
    "colab": {
     "base_uri": "https://localhost:8080/",
     "height": 700
    },
    "id": "oZwwaDWAyOfy",
    "outputId": "e93870b2-a857-44d0-92bc-cb3d6cab8de4"
   },
   "source": [
    "plt.figure()\n",
    "plt.imshow(raster[0,:,:])"
   ],
   "execution_count": 24,
   "outputs": [
    {
     "data": {
      "text/plain": "<matplotlib.image.AxesImage at 0x1240eabc0>"
     },
     "execution_count": 24,
     "metadata": {},
     "output_type": "execute_result"
    },
    {
     "data": {
      "text/plain": "<Figure size 432x288 with 1 Axes>",
      "image/png": "[encoded data removed]"
     },
     "metadata": {
      "needs_background": "light"
     },
     "output_type": "display_data"
    }
   ]
  },
  {
   "cell_type": "markdown",
   "metadata": {
    "id": "KqULoxVQ11Bb"
   },
   "source": [
    "To understand the data distribution, you can plot a histogram of the band values."
   ]
  },
  {
   "cell_type": "code",
   "metadata": {
    "colab": {
     "base_uri": "https://localhost:8080/",
     "height": 351
    },
    "id": "Xci8AggLyPbn",
    "outputId": "955bd22e-aefd-499f-aac7-1d21a47b523b"
   },
   "source": [
    "# Plot\n",
    "plt.figure(figsize=(5, 5))\n",
    "ax = plt.axes()\n",
    "ax.hist(raster[0,:,:].flatten(),bins=np.arange(0.0, 6, 1),color='red',alpha=0.3,label='R')\n",
    "ax.legend(frameon=False,fontsize=10)\n",
    "ax.set_xlabel('Data []')\n",
    "ax.set_ylabel('Probability density by counts')"
   ],
   "execution_count": 38,
   "outputs": [
    {
     "data": {
      "text/plain": "Text(0, 0.5, 'Probability density by counts')"
     },
     "execution_count": 38,
     "metadata": {},
     "output_type": "execute_result"
    },
    {
     "data": {
      "text/plain": "<Figure size 360x360 with 1 Axes>",
      "image/png": "[encoded data removed]"
     },
     "metadata": {
      "needs_background": "light"
     },
     "output_type": "display_data"
    }
   ]
  },
  {
   "cell_type": "markdown",
   "source": [
    "Once you have loaded your data sets you can apply the standard numpy functions to the raster data sets"
   ],
   "metadata": {
    "collapsed": false,
    "pycharm": {
     "name": "#%% md\n"
    }
   }
  },
  {
   "cell_type": "code",
   "execution_count": 39,
   "outputs": [
    {
     "data": {
      "text/plain": "0.036945686107563505"
     },
     "execution_count": 39,
     "metadata": {},
     "output_type": "execute_result"
    }
   ],
   "source": [
    "np.mean(raster)"
   ],
   "metadata": {
    "collapsed": false,
    "pycharm": {
     "name": "#%%\n"
    }
   }
  },
  {
   "cell_type": "code",
   "execution_count": 40,
   "outputs": [
    {
     "data": {
      "text/plain": "5"
     },
     "execution_count": 40,
     "metadata": {},
     "output_type": "execute_result"
    }
   ],
   "source": [
    "np.max(raster)"
   ],
   "metadata": {
    "collapsed": false,
    "pycharm": {
     "name": "#%%\n"
    }
   }
  },
  {
   "cell_type": "code",
   "execution_count": 41,
   "outputs": [
    {
     "data": {
      "text/plain": "0"
     },
     "execution_count": 41,
     "metadata": {},
     "output_type": "execute_result"
    }
   ],
   "source": [
    "np.min(raster)"
   ],
   "metadata": {
    "collapsed": false,
    "pycharm": {
     "name": "#%%\n"
    }
   }
  },
  {
   "cell_type": "markdown",
   "source": [
    "And potentially apply these functions along specific axes:"
   ],
   "metadata": {
    "collapsed": false,
    "pycharm": {
     "name": "#%% md\n"
    }
   }
  },
  {
   "cell_type": "code",
   "execution_count": 43,
   "outputs": [
    {
     "data": {
      "text/plain": "array([[0., 0., 0., ..., 0., 0., 0.]])"
     },
     "execution_count": 43,
     "metadata": {},
     "output_type": "execute_result"
    }
   ],
   "source": [
    "np.mean(raster,axis=2)"
   ],
   "metadata": {
    "collapsed": false,
    "pycharm": {
     "name": "#%%\n"
    }
   }
  },
  {
   "cell_type": "markdown",
   "source": [
    "### Masked rasters\n",
    "See also [rasterio manuals on masks](https://rasterio.readthedocs.io/en/latest/topics/masks.html) [and masking](https://rasterio.readthedocs.io/en/latest/topics/masking-by-shapefile.html)\n",
    "Nodata masks allow you to identify regions of valid data values and/or mask data from your analyses. In using Rasterio, you’ll encounter two different kinds of masks.\n",
    "\n",
    "One is the the valid data mask from GDAL, an unsigned byte array with the same number of rows and columns as the dataset in which non-zero elements (typically 255) indicate that the corresponding data elements are valid. Other elements are invalid, or nodata elements.\n",
    "\n",
    "The other kind of mask is a numpy.ma.MaskedArray which has the inverse sense: True values in a masked array’s mask indicate that the corresponding data elements are invalid. With care, you can safely navigate convert between the two mask types.\n",
    "\n",
    "Consider Rasterio’s RGB.byte.tif test dataset. It has 718 rows and 791 columns of pixels. Each pixel has 3 8-bit (uint8) channels or bands. It has a trapezoid of image data within a rectangular background of 0,0,0 value pixels.\n",
    "\n",
    "![](Data/images/RGB.byte.jpg)\n",
    "\n",
    "Metadata in the dataset declares that values of 0 will be interpreted as invalid data or nodata pixels. In, e.g., merging the image with adjacent scenes, we’d like to ignore the nodata pixels and have only valid image data in our final mosaic.\n",
    "\n",
    "Alternatively you can also use vector data to mask out data that you are not interested in. When using rasterio, it is simple to open vector file, read geometries, and mask out regions of a raster that are outside the polygons defined in the shapefile:\n"
   ],
   "metadata": {
    "collapsed": false,
    "pycharm": {
     "name": "#%% md\n"
    }
   }
  },
  {
   "cell_type": "code",
   "execution_count": null,
   "outputs": [],
   "source": [
    "with rasterio.open(\"tests/data/RGB.byte.tif\") as src:\n",
    "    out_image, out_transform = rasterio.mask.mask(src, shapes, crop=True)\n",
    "    out_meta = src.meta"
   ],
   "metadata": {
    "collapsed": false,
    "pycharm": {
     "name": "#%%\n"
    }
   }
  },
  {
   "cell_type": "markdown",
   "source": [
    "Applying the features in the shapefile as a mask on the raster sets all pixels outside of the features to be zero. Since crop=True in this example, the extent of the raster is also set to be the extent of the features in the shapefile. We can then use the updated spatial transform and raster height and width to write the masked raster to a new file."
   ],
   "metadata": {
    "collapsed": false,
    "pycharm": {
     "name": "#%% md\n"
    }
   }
  },
  {
   "cell_type": "markdown",
   "metadata": {
    "id": "fviIvAxkAAT-"
   },
   "source": [
    "# Done\n",
    "With these ingredients, you should be able to do the analyses of case study. Good luck!"
   ]
  },
  {
   "cell_type": "code",
   "execution_count": null,
   "outputs": [],
   "source": [],
   "metadata": {
    "collapsed": false,
    "pycharm": {
     "name": "#%%\n"
    }
   }
  }
 ]
}