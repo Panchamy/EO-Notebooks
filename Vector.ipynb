{
 "cells": [
  {
   "cell_type": "markdown",
   "id": "8a820b16",
   "metadata": {},
   "source": [
    "# Lesson Plan"
   ]
  },
  {
   "cell_type": "code",
   "execution_count": null,
   "id": "3aaf7bf1",
   "metadata": {},
   "outputs": [],
   "source": [
    "import geopandas as gpd\n",
    "import folium\n",
    "import json\n",
    "import branca"
   ]
  },
  {
   "cell_type": "markdown",
   "id": "6a2a0386",
   "metadata": {},
   "source": [
    "# Point data\n"
   ]
  },
  {
   "cell_type": "code",
   "execution_count": null,
   "id": "ff4e087c",
   "metadata": {},
   "outputs": [],
   "source": [
    "df = gpd.read_file('data/Kruispunten/kruispunten.shp')\n",
    "\n",
    "map = folium.Map(\n",
    "    location=[51.94, 4.46],\n",
    "    zoom_start=10\n",
    ")\n",
    "\n",
    "# marker_cluster = folium.MarkerCluster().add_to(map)\n",
    "\n",
    "gjson = folium.GeoJson(\n",
    "    df,\n",
    ").add_to(map)\n",
    "\n",
    "folium.features.GeoJsonPopup(\n",
    "    fields=['OMSCHR', 'RIJRTNGHRB'],\n",
    "    aliases=['OMSCHR', 'RIJRTNGHRB'],\n",
    "    labels=True\n",
    ").add_to(gjson)\n",
    "\n",
    "map"
   ]
  },
  {
   "cell_type": "markdown",
   "id": "f32da6b0",
   "metadata": {},
   "source": [
    "# Linestring data"
   ]
  },
  {
   "cell_type": "code",
   "execution_count": null,
   "id": "73545389",
   "metadata": {},
   "outputs": [],
   "source": [
    "# read data\n",
    "max_speed_df = gpd.read_file('data/Maximum snelheid/max_snelheden.shp')#, rows=10000)\n",
    "max_speed_df = max_speed_df[['WVK_ID', 'OMSCHR', 'BEGAFSTAND', 'ENDAFSTAND', 'geometry']]\n",
    "max_speed_df.to_crs('EPSG:4326', inplace=True)\n",
    "# max_speed_df.WVK_ID = max_speed_df.WVK_ID.astype(str)\n",
    "max_speed_df.head()\n",
    "\n",
    "colorscale = branca.colormap.linear.RdYlBu_11.scale(0, max_speed_df.OMSCHR.max())\n",
    "def style_function(feature):\n",
    "    return {\n",
    "        \"fillOpacity\": 0.5,\n",
    "        \"weight\": 5,\n",
    "        \"color\": colorscale(max_speed_df.iloc[int(feature['id'])]['OMSCHR']),\n",
    "    }\n",
    "\n",
    "map = folium.Map(\n",
    "    # location=[51.94, 4.46],\n",
    "    location=[\n",
    "        max_speed_df.geometry.to_crs('EPSG:4326').bounds.miny.mean(),\n",
    "        max_speed_df.geometry.to_crs('EPSG:4326').bounds.minx.mean()\n",
    "    ],\n",
    "    zoom_start=10\n",
    ")\n",
    "\n",
    "gjson = folium.GeoJson(\n",
    "    # geojson,\n",
    "    max_speed_df,\n",
    "    # json.loads(geo),\n",
    "    style_function=style_function,\n",
    ").add_to(map)\n",
    "\n",
    "folium.features.GeoJsonPopup(\n",
    "    fields=['WVK_ID', 'BEGAFSTAND', 'ENDAFSTAND', 'OMSCHR'],\n",
    "    aliases=['WVK_ID', 'from', 'to', 'Maximum speed'],\n",
    "    labels=True\n",
    ").add_to(gjson)\n",
    "\n",
    "map"
   ]
  },
  {
   "cell_type": "markdown",
   "id": "3edad28b",
   "metadata": {},
   "source": [
    "# Polygon data"
   ]
  },
  {
   "cell_type": "code",
   "execution_count": null,
   "id": "b019c9c0",
   "metadata": {},
   "outputs": [],
   "source": [
    "data = gpd.read_file('polygon/Utrecht_NoordHolland.SHP', geometry='geometry')\n",
    "data.plot(column = 'inhabitant', scheme='quantiles', cmap='YlOrRd')\n",
    "data = data.to_crs(epsg=4326)\n"
   ]
  },
  {
   "cell_type": "code",
   "execution_count": null,
   "id": "c5a8fbf0",
   "metadata": {},
   "outputs": [],
   "source": [
    "data = gpd.read_file('polygon/Utrecht_NoordHolland.SHP', geometry='geometry')\n",
    "data = data.to_crs(epsg=4326)\n",
    "basic_map = folium.Map(location=[52.58709632157862, 4.825269960317581], tiles=\"openstreetmap\", zoom_start=9)\n",
    "folium.GeoJson(data = data['geometry']).add_to(basic_map)"
   ]
  },
  {
   "cell_type": "markdown",
   "id": "53418142",
   "metadata": {},
   "source": [
    "## 1. Introduction to Geospatial Data"
   ]
  },
  {
   "cell_type": "markdown",
   "id": "1151f57f",
   "metadata": {
    "heading_collapsed": true
   },
   "source": [
    "## 2. Geospatial Visualisation (1D, 2D, 3D)"
   ]
  },
  {
   "cell_type": "markdown",
   "id": "76eb206f",
   "metadata": {},
   "source": [
    "## 3. Geospatial Data Analysis"
   ]
  },
  {
   "cell_type": "code",
   "execution_count": null,
   "id": "623c464f",
   "metadata": {},
   "outputs": [],
   "source": []
  }
 ],
 "metadata": {
  "kernelspec": {
   "display_name": "Python 3 (ipykernel)",
   "language": "python",
   "name": "python3"
  },
  "language_info": {
   "codemirror_mode": {
    "name": "ipython",
    "version": 3
   },
   "file_extension": ".py",
   "mimetype": "text/x-python",
   "name": "python",
   "nbconvert_exporter": "python",
   "pygments_lexer": "ipython3",
   "version": "3.7.11"
  }
 },
 "nbformat": 4,
 "nbformat_minor": 5
}
