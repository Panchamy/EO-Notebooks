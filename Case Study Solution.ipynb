{
 "cells": [
  {
   "cell_type": "code",
   "execution_count": null,
   "outputs": [],
   "source": [
    "# Import packages and read files"
   ],
   "metadata": {
    "collapsed": false,
    "pycharm": {
     "name": "#%%\n"
    }
   }
  },
  {
   "cell_type": "code",
   "execution_count": null,
   "outputs": [],
   "source": [
    "import geopandas\n",
    "import folium\n",
    "import rasterio.mask\n",
    "from rasterio.plot import show\n",
    "import numpy as np"
   ],
   "metadata": {
    "collapsed": false,
    "pycharm": {
     "name": "#%%\n"
    }
   }
  },
  {
   "cell_type": "code",
   "execution_count": null,
   "outputs": [],
   "source": [
    "# Read geojson files\n",
    "gdf_bound = geopandas.read_file('Data/case_study/vietnam_bound.geojson')\n",
    "gdf_road = geopandas.read_file('Data/case_study/vietnam_roadnet.geojson')\n",
    "dataset = rasterio.open('Data/case_study/geonode__fl1010irmt.tif')\n",
    "ras = dataset.read(1)"
   ],
   "metadata": {
    "collapsed": false,
    "pycharm": {
     "name": "#%%\n"
    }
   }
  },
  {
   "cell_type": "markdown",
   "source": [
    "# Cleaning and change column"
   ],
   "metadata": {
    "collapsed": false,
    "pycharm": {
     "name": "#%% md\n"
    }
   }
  },
  {
   "cell_type": "code",
   "execution_count": null,
   "outputs": [],
   "source": [
    "gdf_bound = gdf_bound[['NAME_1', 'geometry']]\n",
    "gdf_bound.columns = ['prov_name', 'geometry']\n",
    "gdf_road = gdf_road[['geometry']]"
   ],
   "metadata": {
    "collapsed": false,
    "pycharm": {
     "name": "#%%\n"
    }
   }
  },
  {
   "cell_type": "markdown",
   "source": [
    "## Boundaries Flood Risk"
   ],
   "metadata": {
    "collapsed": false,
    "pycharm": {
     "name": "#%% md\n"
    }
   }
  },
  {
   "cell_type": "code",
   "execution_count": null,
   "outputs": [],
   "source": [
    "# Simple plot without mapping\n",
    "out_image, out_transform = rasterio.mask.mask(dataset, gdf_bound['geometry'], crop=True)\n",
    "out_meta = dataset.meta\n",
    "show(out_image)"
   ],
   "metadata": {
    "collapsed": false,
    "pycharm": {
     "name": "#%%\n"
    }
   }
  },
  {
   "cell_type": "code",
   "execution_count": null,
   "outputs": [],
   "source": [
    "# Create a mask for each location and add the mean value as column\n",
    "res_col = []\n",
    "for prov_name in gdf_bound['prov_name'].unique():\n",
    "    df_filt = gdf_bound[gdf_bound['prov_name'] == prov_name]\n",
    "    gtraster, bound = rasterio.mask.mask(dataset, df_filt['geometry'], crop=True)\n",
    "    gdf_bound.loc[gdf_bound['prov_name'] == prov_name, 'avg'] = np.mean((gtraster[0]))"
   ],
   "metadata": {
    "collapsed": false,
    "pycharm": {
     "name": "#%%\n"
    }
   }
  },
  {
   "cell_type": "code",
   "execution_count": null,
   "outputs": [],
   "source": [
    "gdf_prov_g = gdf_bound.groupby('prov_name').mean()\n",
    "# Get 75 percentile of average risk\n",
    "gdf_prov_g = gdf_prov_g[gdf_prov_g['avg'] > 1.06]\n",
    "# Get list of high risk\n",
    "high_average = list(gdf_prov_g.index)\n",
    "print(f\"The high risk areas are {high_average}\")\n"
   ],
   "metadata": {
    "collapsed": false,
    "pycharm": {
     "name": "#%%\n"
    }
   }
  },
  {
   "cell_type": "code",
   "execution_count": null,
   "outputs": [],
   "source": [
    "# Simple plot of heat data included\n",
    "gdf_bound.plot(column='avg', cmap='hot', legend=True)"
   ],
   "metadata": {
    "collapsed": false,
    "pycharm": {
     "name": "#%%\n"
    }
   }
  },
  {
   "cell_type": "code",
   "execution_count": null,
   "outputs": [],
   "source": [
    "# Create index as string\n",
    "gdf_bound = gdf_bound.reset_index()\n",
    "gdf_bound['index'] = gdf_bound['index'].astype(str)"
   ],
   "metadata": {
    "collapsed": false,
    "pycharm": {
     "name": "#%%\n"
    }
   }
  },
  {
   "cell_type": "code",
   "execution_count": null,
   "outputs": [],
   "source": [
    "# Map with folium\n",
    "geo = geopandas.GeoSeries(gdf_bound.set_index('index')['geometry']).to_json()\n",
    "m = folium.Map(location=[14.0583, 108.2772], zoom_start=6)\n",
    "folium.Choropleth(\n",
    "    geo_data = geo,\n",
    "    name = 'Choropleth',\n",
    "    data = gdf_bound,\n",
    "    columns = ['index','avg'],\n",
    "    key_on = 'feature.id',\n",
    "    fill_color = 'Reds',\n",
    "    fill_opacity = 0.8,\n",
    "    line_opacity = 1,\n",
    "    legend_name = 'Average Flood Risk',\n",
    "    smooth_factor=  1\n",
    ").add_to(m)\n",
    "\n",
    "m"
   ],
   "metadata": {
    "collapsed": false,
    "pycharm": {
     "name": "#%%\n"
    }
   }
  },
  {
   "cell_type": "markdown",
   "source": [
    "## Road Flood Risk"
   ],
   "metadata": {
    "collapsed": false,
    "pycharm": {
     "name": "#%% md\n"
    }
   }
  },
  {
   "cell_type": "code",
   "execution_count": null,
   "outputs": [],
   "source": [
    "# Simple road plot\n",
    "gdf_road.plot()"
   ],
   "metadata": {
    "collapsed": false,
    "pycharm": {
     "name": "#%%\n"
    }
   }
  },
  {
   "cell_type": "code",
   "execution_count": null,
   "outputs": [],
   "source": [
    "# create road index column\n",
    "gdf_road = gdf_road.reset_index()\n",
    "gdf_road['index'] = gdf_road['index'].astype(str)"
   ],
   "metadata": {
    "collapsed": false,
    "pycharm": {
     "name": "#%%\n"
    }
   }
  },
  {
   "cell_type": "code",
   "execution_count": null,
   "outputs": [],
   "source": [
    "# Set crs\n",
    "gdf_road = gdf_road.to_crs(\"EPSG:4326\")"
   ],
   "metadata": {
    "collapsed": false,
    "pycharm": {
     "name": "#%%\n"
    }
   }
  },
  {
   "cell_type": "code",
   "execution_count": null,
   "outputs": [],
   "source": [
    "# Create a mask for each location and add the mean value as column\n",
    "res_col = []\n",
    "for road in gdf_road['index']:\n",
    "    df_filt = gdf_road[gdf_road['index'] == road]\n",
    "    gtraster, bound = rasterio.mask.mask(dataset, df_filt['geometry'], crop=True)\n",
    "    gdf_road.loc[gdf_road['index'] == road, 'avg'] = np.mean((gtraster[0]))"
   ],
   "metadata": {
    "collapsed": false,
    "pycharm": {
     "name": "#%%\n"
    }
   }
  },
  {
   "cell_type": "code",
   "execution_count": null,
   "outputs": [],
   "source": [
    "# Get 75 percentile of average risk\n",
    "gdf_road_high = gdf_road[gdf_road['avg'] > 4]\n",
    "# Get list of high risk\n",
    "high_average = list(gdf_road_high.index)\n",
    "print(f\"There are {len(high_average)} high risk roads of the {len(gdf_road)} roads\")\n"
   ],
   "metadata": {
    "collapsed": false,
    "pycharm": {
     "name": "#%%\n"
    }
   }
  },
  {
   "cell_type": "code",
   "execution_count": null,
   "outputs": [],
   "source": [
    "# Simple plot of heat data included\n",
    "gdf_road.plot(column='avg', cmap='hot', legend=True)"
   ],
   "metadata": {
    "collapsed": false,
    "pycharm": {
     "name": "#%%\n"
    }
   }
  },
  {
   "cell_type": "code",
   "execution_count": null,
   "outputs": [],
   "source": [
    "# Road to classify\n",
    "gdf_road['avg_rounded'] = round(gdf_road['avg']).astype(int)"
   ],
   "metadata": {
    "collapsed": false,
    "pycharm": {
     "name": "#%%\n"
    }
   }
  },
  {
   "cell_type": "code",
   "execution_count": null,
   "outputs": [],
   "source": [
    "# Map with folium\n",
    "colors = {0: 'Green', 1: 'Green', 2: 'Orange', 3: 'Orange', 4: 'Red', 5: 'Red'}\n",
    "geo = geopandas.GeoSeries(gdf_road['geometry']).to_json()  \n",
    "m = folium.Map(location=[14.0583, 108.2772], zoom_start=6)\n",
    "for flood_r in gdf_road['avg_rounded'].unique():\n",
    "    gdf_f = gdf_road[gdf_road['avg_rounded'] == flood_r].copy()\n",
    "    geo = geopandas.GeoSeries(gdf_f['geometry']).to_json()  \n",
    "    folium.Choropleth(geo, line_color= colors[flood_r], line_weight=1.4).add_to(m)\n",
    "m\n"
   ],
   "metadata": {
    "collapsed": false,
    "pycharm": {
     "name": "#%%\n"
    }
   }
  },
  {
   "cell_type": "markdown",
   "source": [
    "## Provinces with high risk roads"
   ],
   "metadata": {
    "collapsed": false,
    "pycharm": {
     "name": "#%% md\n"
    }
   }
  },
  {
   "cell_type": "code",
   "execution_count": null,
   "outputs": [],
   "source": [
    "# Calculate weighted average (length times avg for road segment)\n",
    "gdf_road['weight'] = gdf_road.length * gdf_road['avg']"
   ],
   "metadata": {
    "collapsed": false,
    "pycharm": {
     "name": "#%%\n"
    }
   }
  },
  {
   "cell_type": "code",
   "execution_count": null,
   "outputs": [],
   "source": [
    "# Merge roads to corresponding boundary\n",
    "gdf_merge = gdf_road.sjoin(gdf_bound[['prov_name','geometry']], how=\"left\", predicate='intersects')"
   ],
   "metadata": {
    "collapsed": false,
    "pycharm": {
     "name": "#%%\n"
    }
   }
  },
  {
   "cell_type": "code",
   "execution_count": null,
   "outputs": [],
   "source": [
    "# Drop impossible joins\n",
    "gdf_merge = gdf_merge[gdf_merge.index_right.notnull()]"
   ],
   "metadata": {
    "collapsed": false,
    "pycharm": {
     "name": "#%%\n"
    }
   }
  },
  {
   "cell_type": "markdown",
   "source": [
    "### Plot polygons with weighted road index"
   ],
   "metadata": {
    "collapsed": false,
    "pycharm": {
     "name": "#%% md\n"
    }
   }
  },
  {
   "cell_type": "code",
   "execution_count": null,
   "outputs": [],
   "source": [
    "# Average for each polygon\n",
    "gdf_merge_pol = gdf_merge[['weight', 'index_right']].groupby('index_right').mean().reset_index()"
   ],
   "metadata": {
    "collapsed": false,
    "pycharm": {
     "name": "#%%\n"
    }
   }
  },
  {
   "cell_type": "code",
   "execution_count": null,
   "outputs": [],
   "source": [
    "# Set index as integer and rename column.\n",
    "gdf_merge_pol['index_right'] = gdf_merge_pol.index_right.astype(int)\n",
    "gdf_merge_pol.columns = ['index', 'weight']\n",
    "# Change gdf_bound index type to match gdf_merge index type\n",
    "gdf_bound['index'] = gdf_bound.index.astype(int)"
   ],
   "metadata": {
    "collapsed": false,
    "pycharm": {
     "name": "#%%\n"
    }
   }
  },
  {
   "cell_type": "code",
   "execution_count": null,
   "outputs": [],
   "source": [
    "# Merge the boundaries with the weight dataframe\n",
    "gdf_merge_pol = geopandas.pd.merge(gdf_merge_pol, gdf_bound, how='left', on=\"index\")\n",
    "gdf_merge_pol = gdf_merge_pol[['geometry', 'weight', 'index', 'prov_name']]"
   ],
   "metadata": {
    "collapsed": false,
    "pycharm": {
     "name": "#%%\n"
    }
   }
  },
  {
   "cell_type": "code",
   "execution_count": null,
   "outputs": [],
   "source": [
    "# Set index as string for plot\n",
    "gdf_merge_pol['index'] = gdf_merge_pol['index'].astype(str)"
   ],
   "metadata": {
    "collapsed": false,
    "pycharm": {
     "name": "#%%\n"
    }
   }
  },
  {
   "cell_type": "code",
   "execution_count": null,
   "outputs": [],
   "source": [
    "# Map with folium\n",
    "geo = geopandas.GeoSeries(gdf_merge_pol.set_index('index')['geometry']).to_json()\n",
    "m = folium.Map(location=[14.0583, 108.2772], zoom_start=6)\n",
    "folium.Choropleth(\n",
    "    geo_data = geo,\n",
    "    name = 'Choropleth',\n",
    "    data = gdf_merge,\n",
    "    columns = ['index','weight'],\n",
    "    key_on = 'feature.id',\n",
    "    fill_color = 'Reds',\n",
    "    fill_opacity = 0.8,\n",
    "    line_opacity = 1,\n",
    "    legend_name = 'Average Flood Risk',\n",
    "    smooth_factor=  1\n",
    ").add_to(m)\n",
    "\n",
    "m"
   ],
   "metadata": {
    "collapsed": false,
    "pycharm": {
     "name": "#%%\n"
    }
   }
  }
 ],
 "metadata": {
  "kernelspec": {
   "name": "python3",
   "language": "python",
   "display_name": "Python 3 (ipykernel)"
  },
  "language_info": {
   "codemirror_mode": {
    "name": "ipython",
    "version": 3
   },
   "file_extension": ".py",
   "mimetype": "text/x-python",
   "name": "python",
   "nbconvert_exporter": "python",
   "pygments_lexer": "ipython3",
   "version": "3.10.4"
  }
 },
 "nbformat": 4,
 "nbformat_minor": 2
}