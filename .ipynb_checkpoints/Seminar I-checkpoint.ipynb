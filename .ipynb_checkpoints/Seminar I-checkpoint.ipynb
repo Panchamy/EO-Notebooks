{
 "cells": [
  {
   "cell_type": "markdown",
   "id": "8a820b16",
   "metadata": {},
   "source": [
    "# Lesson Plan"
   ]
  },
  {
   "cell_type": "markdown",
   "id": "53418142",
   "metadata": {},
   "source": [
    "## 1. Introduction to Geospatial Data"
   ]
  },
  {
   "cell_type": "markdown",
   "id": "1151f57f",
   "metadata": {},
   "source": [
    "## 2. Geospatial Visualisation (1D, 2D, 3D)"
   ]
  },
  {
   "cell_type": "markdown",
   "id": "76eb206f",
   "metadata": {},
   "source": [
    "## 3. Geospatial Data Analysis"
   ]
  },
  {
   "cell_type": "code",
   "execution_count": null,
   "id": "623c464f",
   "metadata": {},
   "outputs": [],
   "source": []
  }
 ],
 "metadata": {
  "kernelspec": {
   "display_name": "Python 3 (ipykernel)",
   "language": "python",
   "name": "python3"
  },
  "language_info": {
   "codemirror_mode": {
    "name": "ipython",
    "version": 3
   },
   "file_extension": ".py",
   "mimetype": "text/x-python",
   "name": "python",
   "nbconvert_exporter": "python",
   "pygments_lexer": "ipython3",
   "version": "3.7.11"
  }
 },
 "nbformat": 4,
 "nbformat_minor": 5
}
