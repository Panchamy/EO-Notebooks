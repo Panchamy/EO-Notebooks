{
 "cells": [
  {
   "cell_type": "code",
   "execution_count": 2,
   "metadata": {},
   "outputs": [],
   "source": [
    "import geopandas\n",
    "import folium\n",
    "import cartopy"
   ]
  },
  {
   "cell_type": "code",
   "execution_count": 8,
   "metadata": {},
   "outputs": [],
   "source": [
    "gdf_pol = geopandas.read_file('data/riskPolygonsInVietnam.shp')"
   ]
  },
  {
   "cell_type": "code",
   "execution_count": 7,
   "metadata": {},
   "outputs": [],
   "source": [
    "gdf_flood = geopandas.read_file('data/flood_highrisk.shp')"
   ]
  },
  {
   "cell_type": "code",
   "execution_count": 9,
   "metadata": {},
   "outputs": [
    {
     "data": {
      "text/html": [
       "<div>\n",
       "<style scoped>\n",
       "    .dataframe tbody tr th:only-of-type {\n",
       "        vertical-align: middle;\n",
       "    }\n",
       "\n",
       "    .dataframe tbody tr th {\n",
       "        vertical-align: top;\n",
       "    }\n",
       "\n",
       "    .dataframe thead th {\n",
       "        text-align: right;\n",
       "    }\n",
       "</style>\n",
       "<table border=\"1\" class=\"dataframe\">\n",
       "  <thead>\n",
       "    <tr style=\"text-align: right;\">\n",
       "      <th></th>\n",
       "      <th>geometry</th>\n",
       "    </tr>\n",
       "  </thead>\n",
       "  <tbody>\n",
       "    <tr>\n",
       "      <th>0</th>\n",
       "      <td>LINESTRING Z (-1495135.576 11025376.548 0.000,...</td>\n",
       "    </tr>\n",
       "    <tr>\n",
       "      <th>1</th>\n",
       "      <td>LINESTRING Z (-1512457.120 11017791.650 0.000,...</td>\n",
       "    </tr>\n",
       "    <tr>\n",
       "      <th>2</th>\n",
       "      <td>LINESTRING Z (-1493643.977 11027505.705 0.000,...</td>\n",
       "    </tr>\n",
       "    <tr>\n",
       "      <th>3</th>\n",
       "      <td>LINESTRING Z (-1509148.447 11026076.186 0.000,...</td>\n",
       "    </tr>\n",
       "    <tr>\n",
       "      <th>4</th>\n",
       "      <td>LINESTRING Z (-1512457.120 11017791.650 0.000,...</td>\n",
       "    </tr>\n",
       "    <tr>\n",
       "      <th>...</th>\n",
       "      <td>...</td>\n",
       "    </tr>\n",
       "    <tr>\n",
       "      <th>3993</th>\n",
       "      <td>LINESTRING Z (-1360741.917 12669721.172 0.000,...</td>\n",
       "    </tr>\n",
       "    <tr>\n",
       "      <th>3994</th>\n",
       "      <td>LINESTRING Z (-1319607.451 12677073.173 0.000,...</td>\n",
       "    </tr>\n",
       "    <tr>\n",
       "      <th>3995</th>\n",
       "      <td>LINESTRING Z (-1317109.747 12681070.994 0.000,...</td>\n",
       "    </tr>\n",
       "    <tr>\n",
       "      <th>3996</th>\n",
       "      <td>LINESTRING Z (-1313376.039 12681834.230 0.000,...</td>\n",
       "    </tr>\n",
       "    <tr>\n",
       "      <th>3997</th>\n",
       "      <td>LINESTRING Z (-1313376.039 12681834.230 0.000,...</td>\n",
       "    </tr>\n",
       "  </tbody>\n",
       "</table>\n",
       "<p>3998 rows × 1 columns</p>\n",
       "</div>"
      ],
      "text/plain": [
       "                                               geometry\n",
       "0     LINESTRING Z (-1495135.576 11025376.548 0.000,...\n",
       "1     LINESTRING Z (-1512457.120 11017791.650 0.000,...\n",
       "2     LINESTRING Z (-1493643.977 11027505.705 0.000,...\n",
       "3     LINESTRING Z (-1509148.447 11026076.186 0.000,...\n",
       "4     LINESTRING Z (-1512457.120 11017791.650 0.000,...\n",
       "...                                                 ...\n",
       "3993  LINESTRING Z (-1360741.917 12669721.172 0.000,...\n",
       "3994  LINESTRING Z (-1319607.451 12677073.173 0.000,...\n",
       "3995  LINESTRING Z (-1317109.747 12681070.994 0.000,...\n",
       "3996  LINESTRING Z (-1313376.039 12681834.230 0.000,...\n",
       "3997  LINESTRING Z (-1313376.039 12681834.230 0.000,...\n",
       "\n",
       "[3998 rows x 1 columns]"
      ]
     },
     "execution_count": 9,
     "metadata": {},
     "output_type": "execute_result"
    }
   ],
   "source": [
    "gdf_flood"
   ]
  }
 ],
 "metadata": {
  "kernelspec": {
   "display_name": "ass_geo",
   "language": "python",
   "name": "ass_geo"
  },
  "language_info": {
   "codemirror_mode": {
    "name": "ipython",
    "version": 3
   },
   "file_extension": ".py",
   "mimetype": "text/x-python",
   "name": "python",
   "nbconvert_exporter": "python",
   "pygments_lexer": "ipython3",
   "version": "3.10.4"
  },
  "orig_nbformat": 4
 },
 "nbformat": 4,
 "nbformat_minor": 2
}
