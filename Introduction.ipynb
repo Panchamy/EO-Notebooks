{
 "cells": [
  {
   "cell_type": "markdown",
   "metadata": {},
   "source": [
    "# Introduction to Geospatial Data"
   ]
  },
  {
   "cell_type": "markdown",
   "metadata": {},
   "source": [
    "## Definition"
   ]
  },
  {
   "cell_type": "markdown",
   "metadata": {},
   "source": [
    "**Geospatial data** represents information (or features) with respect to locations on Earth.  \n",
    "Example: A geospatical data show the populations of different provinces in a country. The data also has the geographical information of those provinces, like longitudianal and latitudinal coordinates at the boundaries of the provinces."
   ]
  },
  {
   "cell_type": "markdown",
   "metadata": {},
   "source": [
    "## Classification:\n",
    "There are two main types of geospatial data: vector and raster.  \n",
    "- Vector data: are based on the foundation of points. The related graphics can be points, lines, or polygons. For example, earthquakes can be associated with points, roads with lines, countries with polygons.\n",
    "- Raster data: are based on the foundation of gridcells or pixels.  \n",
    "\n",
    "An illustration of these two types of digitalising geospatial data is shown in a figure below   \n",
    "  \n",
    "<img src=\"geospatial_data_types.png\" alt=\"drawing\" width=\"600\"/>"
   ]
  },
  {
   "cell_type": "markdown",
   "metadata": {},
   "source": [
    "### Vector data"
   ]
  },
  {
   "cell_type": "markdown",
   "metadata": {},
   "source": [
    "\n",
    "<img src=\"vector_data.png\" alt=\"drawing\" width=\"600\"/>\n",
    "\n",
    "Source: National Ecological Observatory Network (NEON)"
   ]
  },
  {
   "cell_type": "markdown",
   "metadata": {},
   "source": [
    "# Vector Data File Formats"
   ]
  },
  {
   "cell_type": "markdown",
   "metadata": {},
   "source": [
    "Extensive list: https://gisgeography.com/gis-formats/"
   ]
  },
  {
   "cell_type": "markdown",
   "metadata": {},
   "source": [
    "geojson\n"
   ]
  }
 ],
 "metadata": {
  "kernelspec": {
   "display_name": "Python 3.8.10 ('mude')",
   "language": "python",
   "name": "python3"
  },
  "language_info": {
   "name": "python",
   "version": "3.8.10"
  },
  "orig_nbformat": 4,
  "vscode": {
   "interpreter": {
    "hash": "8a2fe6d3f24c831e4ac25973d4dc1bc7deb0e2b006a19b6d82b81e5c2cb0359b"
   }
  }
 },
 "nbformat": 4,
 "nbformat_minor": 2
}
